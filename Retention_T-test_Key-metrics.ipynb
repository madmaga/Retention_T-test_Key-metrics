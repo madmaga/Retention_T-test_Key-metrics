{
 "cells": [
  {
   "cell_type": "code",
   "execution_count": 1,
   "metadata": {},
   "outputs": [
    {
     "name": "stderr",
     "output_type": "stream",
     "text": [
      "/opt/tljh/user/lib/python3.7/site-packages/outdated/utils.py:18: OutdatedCacheFailedWarning: Failed to use cache while checking for outdated package.\n",
      "Set the environment variable OUTDATED_RAISE_EXCEPTION=1 for a full traceback.\n",
      "Set the environment variable OUTDATED_IGNORE=1 to disable these warnings.\n",
      "  **kwargs\n",
      "/opt/tljh/user/lib/python3.7/site-packages/outdated/utils.py:18: OutdatedPackageWarning: The package pingouin is out of date. Your version is 0.4.0, the latest is 0.5.3.\n",
      "Set the environment variable OUTDATED_IGNORE=1 to disable these warnings.\n",
      "  **kwargs\n",
      "/opt/tljh/user/lib/python3.7/site-packages/outdated/utils.py:18: OutdatedPackageWarning: The package outdated is out of date. Your version is 0.2.1, the latest is 0.2.2.\n",
      "Set the environment variable OUTDATED_IGNORE=1 to disable these warnings.\n",
      "  **kwargs\n"
     ]
    }
   ],
   "source": [
    "import pandas as pd\n",
    "from datetime import datetime\n",
    "import numpy as np\n",
    "import seaborn as sns\n",
    "\n",
    "from tqdm.auto import tqdm\n",
    "from scipy.stats import norm\n",
    "import matplotlib.pyplot as plt\n",
    "import statsmodels.api as sm\n",
    "import pingouin as pg\n",
    "from scipy import stats"
   ]
  },
  {
   "cell_type": "markdown",
   "metadata": {},
   "source": [
    "### Задача 1.\n",
    "\n",
    "Представьте, что вы работаете в компании, которая разрабатывает мобильные игры. К вам пришел менеджер с рядом задач по исследованию нескольких аспектов мобильного приложения.\n",
    "В первую очередь, его интересует показатель retention. Напишите функцию для его подсчета."
   ]
  },
  {
   "cell_type": "code",
   "execution_count": 30,
   "metadata": {},
   "outputs": [],
   "source": [
    "reg_date = pd.read_csv('shared/problem1-reg_data.csv', sep=';')\n",
    "entry_date = pd.read_csv('shared/problem1-auth_data.csv', sep=';')"
   ]
  },
  {
   "cell_type": "markdown",
   "metadata": {},
   "source": [
    "Начну с краткого анализа датафреймов.\n",
    "Проверю типы данных, наличие пропусков, совпадает ли количество уникальных пользователей в дф с регистрациями и заходами пользователей в игру."
   ]
  },
  {
   "cell_type": "code",
   "execution_count": 31,
   "metadata": {},
   "outputs": [
    {
     "data": {
      "text/plain": [
       "reg_ts    int64\n",
       "uid       int64\n",
       "dtype: object"
      ]
     },
     "execution_count": 31,
     "metadata": {},
     "output_type": "execute_result"
    }
   ],
   "source": [
    "reg_date.dtypes"
   ]
  },
  {
   "cell_type": "code",
   "execution_count": 32,
   "metadata": {},
   "outputs": [
    {
     "data": {
      "text/plain": [
       "reg_ts    0\n",
       "uid       0\n",
       "dtype: int64"
      ]
     },
     "execution_count": 32,
     "metadata": {},
     "output_type": "execute_result"
    }
   ],
   "source": [
    "reg_date.isna().sum()"
   ]
  },
  {
   "cell_type": "code",
   "execution_count": 33,
   "metadata": {},
   "outputs": [
    {
     "data": {
      "text/plain": [
       "1000000"
      ]
     },
     "execution_count": 33,
     "metadata": {},
     "output_type": "execute_result"
    }
   ],
   "source": [
    "reg_date['reg_ts'].nunique()"
   ]
  },
  {
   "cell_type": "code",
   "execution_count": 34,
   "metadata": {},
   "outputs": [
    {
     "data": {
      "text/plain": [
       "1000000"
      ]
     },
     "execution_count": 34,
     "metadata": {},
     "output_type": "execute_result"
    }
   ],
   "source": [
    "reg_date['uid'].nunique()"
   ]
  },
  {
   "cell_type": "code",
   "execution_count": 37,
   "metadata": {},
   "outputs": [
    {
     "data": {
      "text/plain": [
       "auth_ts    int64\n",
       "uid        int64\n",
       "dtype: object"
      ]
     },
     "execution_count": 37,
     "metadata": {},
     "output_type": "execute_result"
    }
   ],
   "source": [
    "entry_date.dtypes"
   ]
  },
  {
   "cell_type": "code",
   "execution_count": 38,
   "metadata": {},
   "outputs": [
    {
     "data": {
      "text/plain": [
       "auth_ts    0\n",
       "uid        0\n",
       "dtype: int64"
      ]
     },
     "execution_count": 38,
     "metadata": {},
     "output_type": "execute_result"
    }
   ],
   "source": [
    "entry_date.isna().sum()"
   ]
  },
  {
   "cell_type": "code",
   "execution_count": 39,
   "metadata": {},
   "outputs": [
    {
     "data": {
      "text/plain": [
       "9180915"
      ]
     },
     "execution_count": 39,
     "metadata": {},
     "output_type": "execute_result"
    }
   ],
   "source": [
    "entry_date['auth_ts'].nunique()"
   ]
  },
  {
   "cell_type": "code",
   "execution_count": 40,
   "metadata": {},
   "outputs": [
    {
     "data": {
      "text/plain": [
       "1000000"
      ]
     },
     "execution_count": 40,
     "metadata": {},
     "output_type": "execute_result"
    }
   ],
   "source": [
    "entry_date['uid'].nunique()"
   ]
  },
  {
   "cell_type": "markdown",
   "metadata": {},
   "source": [
    "Пропусков нет, типы данных нужно будет привести к datetime. \n",
    "Интересует retention по дням от даты регистрации, буду делать когортный анализ на части данных, точнее, анализ последнего месяца. "
   ]
  },
  {
   "cell_type": "code",
   "execution_count": 13,
   "metadata": {},
   "outputs": [],
   "source": [
    "# на вход функции даем 2 дф и дату, с которой будем считать retention\n",
    "def cohort_analysis(reg_date, entry_date, d):\n",
    "    reg_date['reg_ts'] = pd.to_datetime(reg_date['reg_ts'], unit = 's') # привожу колонки со временем к datetime\n",
    "    entry_date['auth_ts'] = pd.to_datetime(entry_date['auth_ts'], unit = 's')\n",
    "    df = entry_date.merge(reg_date, how='left', on='uid') # соединяю дф по номерам id\n",
    "    df['auth_ts'] = df['auth_ts'].apply(lambda x: x.strftime('%Y-%m-%d')) # оставляю только дату в колонках со временем\n",
    "    df['reg_ts'] = df['reg_ts'].apply(lambda x: x.strftime('%Y-%m-%d'))\n",
    "    df['auth_ts'] = pd.to_datetime(df['auth_ts'])\n",
    "    df['reg_ts'] = pd.to_datetime(df['reg_ts'])\n",
    "    df = df[df['reg_ts'] > d] # оставляю часть данных, по ктр буду считать retention\n",
    "    df['cohort_index'] = (df['auth_ts'] - df['reg_ts']).dt.days # создаю колонку с разницей в днях между регистрацией и заходом в игру\n",
    "    piv_table = df.pivot_table(index='reg_ts', columns='cohort_index', values='uid', aggfunc='count') \n",
    "    piv_table = piv_table.divide(piv_table.iloc[:,0], axis=0) \\\n",
    "                    .round(4) # делю дф на количество пользователей в когорте, чтобы получить долю \"вернувшихся\" пользователей\n",
    "    ur_style = (piv_table # творим \"стиль\" как учили в 8 уроке по питону(:\n",
    "            .style\n",
    "            .set_caption('User retention by cohort')  # добавляем подпись\n",
    "            .background_gradient(cmap='viridis')  # раскрашиваем ячейки по столбцам\n",
    "            .highlight_null('white')  # делаем белый фон для значений NaN\n",
    "            .format(\"{:.2%}\", na_rep=\"\"))  # числа форматируем как проценты, NaN заменяем на пустоту\n",
    "    return ur_style"
   ]
  },
  {
   "cell_type": "code",
   "execution_count": 46,
   "metadata": {},
   "outputs": [],
   "source": [
    "d = '2020-09-01'"
   ]
  },
  {
   "cell_type": "code",
   "execution_count": 14,
   "metadata": {},
   "outputs": [
    {
     "data": {
      "text/html": [
       "<style  type=\"text/css\" >\n",
       "#T_fe92acd6_39fd_11ee_bdbb_96000040dfb6row0_col0,#T_fe92acd6_39fd_11ee_bdbb_96000040dfb6row0_col21,#T_fe92acd6_39fd_11ee_bdbb_96000040dfb6row1_col0,#T_fe92acd6_39fd_11ee_bdbb_96000040dfb6row1_col20,#T_fe92acd6_39fd_11ee_bdbb_96000040dfb6row2_col0,#T_fe92acd6_39fd_11ee_bdbb_96000040dfb6row2_col19,#T_fe92acd6_39fd_11ee_bdbb_96000040dfb6row3_col0,#T_fe92acd6_39fd_11ee_bdbb_96000040dfb6row3_col18,#T_fe92acd6_39fd_11ee_bdbb_96000040dfb6row4_col0,#T_fe92acd6_39fd_11ee_bdbb_96000040dfb6row4_col17,#T_fe92acd6_39fd_11ee_bdbb_96000040dfb6row5_col0,#T_fe92acd6_39fd_11ee_bdbb_96000040dfb6row5_col16,#T_fe92acd6_39fd_11ee_bdbb_96000040dfb6row6_col0,#T_fe92acd6_39fd_11ee_bdbb_96000040dfb6row6_col15,#T_fe92acd6_39fd_11ee_bdbb_96000040dfb6row7_col0,#T_fe92acd6_39fd_11ee_bdbb_96000040dfb6row7_col14,#T_fe92acd6_39fd_11ee_bdbb_96000040dfb6row8_col0,#T_fe92acd6_39fd_11ee_bdbb_96000040dfb6row8_col13,#T_fe92acd6_39fd_11ee_bdbb_96000040dfb6row9_col0,#T_fe92acd6_39fd_11ee_bdbb_96000040dfb6row9_col12,#T_fe92acd6_39fd_11ee_bdbb_96000040dfb6row10_col0,#T_fe92acd6_39fd_11ee_bdbb_96000040dfb6row10_col11,#T_fe92acd6_39fd_11ee_bdbb_96000040dfb6row11_col0,#T_fe92acd6_39fd_11ee_bdbb_96000040dfb6row11_col10,#T_fe92acd6_39fd_11ee_bdbb_96000040dfb6row12_col0,#T_fe92acd6_39fd_11ee_bdbb_96000040dfb6row12_col9,#T_fe92acd6_39fd_11ee_bdbb_96000040dfb6row13_col0,#T_fe92acd6_39fd_11ee_bdbb_96000040dfb6row13_col8,#T_fe92acd6_39fd_11ee_bdbb_96000040dfb6row14_col0,#T_fe92acd6_39fd_11ee_bdbb_96000040dfb6row14_col7,#T_fe92acd6_39fd_11ee_bdbb_96000040dfb6row15_col0,#T_fe92acd6_39fd_11ee_bdbb_96000040dfb6row15_col6,#T_fe92acd6_39fd_11ee_bdbb_96000040dfb6row16_col0,#T_fe92acd6_39fd_11ee_bdbb_96000040dfb6row16_col5,#T_fe92acd6_39fd_11ee_bdbb_96000040dfb6row17_col0,#T_fe92acd6_39fd_11ee_bdbb_96000040dfb6row17_col4,#T_fe92acd6_39fd_11ee_bdbb_96000040dfb6row18_col0,#T_fe92acd6_39fd_11ee_bdbb_96000040dfb6row18_col3,#T_fe92acd6_39fd_11ee_bdbb_96000040dfb6row19_col0,#T_fe92acd6_39fd_11ee_bdbb_96000040dfb6row19_col2,#T_fe92acd6_39fd_11ee_bdbb_96000040dfb6row20_col0,#T_fe92acd6_39fd_11ee_bdbb_96000040dfb6row20_col1,#T_fe92acd6_39fd_11ee_bdbb_96000040dfb6row21_col0{\n",
       "            background-color:  #440154;\n",
       "            color:  #f1f1f1;\n",
       "        }#T_fe92acd6_39fd_11ee_bdbb_96000040dfb6row0_col1,#T_fe92acd6_39fd_11ee_bdbb_96000040dfb6row7_col4,#T_fe92acd6_39fd_11ee_bdbb_96000040dfb6row8_col12,#T_fe92acd6_39fd_11ee_bdbb_96000040dfb6row14_col3{\n",
       "            background-color:  #54c568;\n",
       "            color:  #000000;\n",
       "        }#T_fe92acd6_39fd_11ee_bdbb_96000040dfb6row0_col2{\n",
       "            background-color:  #2c728e;\n",
       "            color:  #f1f1f1;\n",
       "        }#T_fe92acd6_39fd_11ee_bdbb_96000040dfb6row0_col3,#T_fe92acd6_39fd_11ee_bdbb_96000040dfb6row3_col16{\n",
       "            background-color:  #5ac864;\n",
       "            color:  #000000;\n",
       "        }#T_fe92acd6_39fd_11ee_bdbb_96000040dfb6row0_col4,#T_fe92acd6_39fd_11ee_bdbb_96000040dfb6row0_col8,#T_fe92acd6_39fd_11ee_bdbb_96000040dfb6row5_col6,#T_fe92acd6_39fd_11ee_bdbb_96000040dfb6row8_col8,#T_fe92acd6_39fd_11ee_bdbb_96000040dfb6row10_col10,#T_fe92acd6_39fd_11ee_bdbb_96000040dfb6row13_col3{\n",
       "            background-color:  #4ac16d;\n",
       "            color:  #000000;\n",
       "        }#T_fe92acd6_39fd_11ee_bdbb_96000040dfb6row0_col5,#T_fe92acd6_39fd_11ee_bdbb_96000040dfb6row2_col15,#T_fe92acd6_39fd_11ee_bdbb_96000040dfb6row3_col4,#T_fe92acd6_39fd_11ee_bdbb_96000040dfb6row10_col7{\n",
       "            background-color:  #2db27d;\n",
       "            color:  #000000;\n",
       "        }#T_fe92acd6_39fd_11ee_bdbb_96000040dfb6row0_col6,#T_fe92acd6_39fd_11ee_bdbb_96000040dfb6row4_col13,#T_fe92acd6_39fd_11ee_bdbb_96000040dfb6row6_col9{\n",
       "            background-color:  #37b878;\n",
       "            color:  #000000;\n",
       "        }#T_fe92acd6_39fd_11ee_bdbb_96000040dfb6row0_col7,#T_fe92acd6_39fd_11ee_bdbb_96000040dfb6row8_col3,#T_fe92acd6_39fd_11ee_bdbb_96000040dfb6row12_col7{\n",
       "            background-color:  #73d056;\n",
       "            color:  #000000;\n",
       "        }#T_fe92acd6_39fd_11ee_bdbb_96000040dfb6row0_col9,#T_fe92acd6_39fd_11ee_bdbb_96000040dfb6row10_col2{\n",
       "            background-color:  #2f6c8e;\n",
       "            color:  #f1f1f1;\n",
       "        }#T_fe92acd6_39fd_11ee_bdbb_96000040dfb6row0_col10,#T_fe92acd6_39fd_11ee_bdbb_96000040dfb6row2_col6,#T_fe92acd6_39fd_11ee_bdbb_96000040dfb6row4_col11{\n",
       "            background-color:  #46c06f;\n",
       "            color:  #000000;\n",
       "        }#T_fe92acd6_39fd_11ee_bdbb_96000040dfb6row0_col11{\n",
       "            background-color:  #d5e21a;\n",
       "            color:  #000000;\n",
       "        }#T_fe92acd6_39fd_11ee_bdbb_96000040dfb6row0_col12{\n",
       "            background-color:  #90d743;\n",
       "            color:  #000000;\n",
       "        }#T_fe92acd6_39fd_11ee_bdbb_96000040dfb6row0_col13{\n",
       "            background-color:  #32648e;\n",
       "            color:  #f1f1f1;\n",
       "        }#T_fe92acd6_39fd_11ee_bdbb_96000040dfb6row0_col14{\n",
       "            background-color:  #8bd646;\n",
       "            color:  #000000;\n",
       "        }#T_fe92acd6_39fd_11ee_bdbb_96000040dfb6row0_col15,#T_fe92acd6_39fd_11ee_bdbb_96000040dfb6row5_col3{\n",
       "            background-color:  #f1e51d;\n",
       "            color:  #000000;\n",
       "        }#T_fe92acd6_39fd_11ee_bdbb_96000040dfb6row0_col16,#T_fe92acd6_39fd_11ee_bdbb_96000040dfb6row2_col4{\n",
       "            background-color:  #1e9b8a;\n",
       "            color:  #000000;\n",
       "        }#T_fe92acd6_39fd_11ee_bdbb_96000040dfb6row0_col17,#T_fe92acd6_39fd_11ee_bdbb_96000040dfb6row0_col20,#T_fe92acd6_39fd_11ee_bdbb_96000040dfb6row1_col2,#T_fe92acd6_39fd_11ee_bdbb_96000040dfb6row1_col4,#T_fe92acd6_39fd_11ee_bdbb_96000040dfb6row1_col6,#T_fe92acd6_39fd_11ee_bdbb_96000040dfb6row1_col9,#T_fe92acd6_39fd_11ee_bdbb_96000040dfb6row1_col13,#T_fe92acd6_39fd_11ee_bdbb_96000040dfb6row1_col15,#T_fe92acd6_39fd_11ee_bdbb_96000040dfb6row1_col19,#T_fe92acd6_39fd_11ee_bdbb_96000040dfb6row2_col18,#T_fe92acd6_39fd_11ee_bdbb_96000040dfb6row4_col1,#T_fe92acd6_39fd_11ee_bdbb_96000040dfb6row4_col3,#T_fe92acd6_39fd_11ee_bdbb_96000040dfb6row4_col8,#T_fe92acd6_39fd_11ee_bdbb_96000040dfb6row4_col14,#T_fe92acd6_39fd_11ee_bdbb_96000040dfb6row4_col16,#T_fe92acd6_39fd_11ee_bdbb_96000040dfb6row5_col11,#T_fe92acd6_39fd_11ee_bdbb_96000040dfb6row6_col5,#T_fe92acd6_39fd_11ee_bdbb_96000040dfb6row6_col10,#T_fe92acd6_39fd_11ee_bdbb_96000040dfb6row6_col12,#T_fe92acd6_39fd_11ee_bdbb_96000040dfb6row8_col7{\n",
       "            background-color:  #fde725;\n",
       "            color:  #000000;\n",
       "        }#T_fe92acd6_39fd_11ee_bdbb_96000040dfb6row0_col18,#T_fe92acd6_39fd_11ee_bdbb_96000040dfb6row5_col13,#T_fe92acd6_39fd_11ee_bdbb_96000040dfb6row11_col3,#T_fe92acd6_39fd_11ee_bdbb_96000040dfb6row13_col6{\n",
       "            background-color:  #25ac82;\n",
       "            color:  #000000;\n",
       "        }#T_fe92acd6_39fd_11ee_bdbb_96000040dfb6row0_col19,#T_fe92acd6_39fd_11ee_bdbb_96000040dfb6row10_col4{\n",
       "            background-color:  #2c738e;\n",
       "            color:  #f1f1f1;\n",
       "        }#T_fe92acd6_39fd_11ee_bdbb_96000040dfb6row1_col1,#T_fe92acd6_39fd_11ee_bdbb_96000040dfb6row15_col4{\n",
       "            background-color:  #2fb47c;\n",
       "            color:  #000000;\n",
       "        }#T_fe92acd6_39fd_11ee_bdbb_96000040dfb6row1_col3,#T_fe92acd6_39fd_11ee_bdbb_96000040dfb6row10_col3,#T_fe92acd6_39fd_11ee_bdbb_96000040dfb6row17_col3{\n",
       "            background-color:  #63cb5f;\n",
       "            color:  #000000;\n",
       "        }#T_fe92acd6_39fd_11ee_bdbb_96000040dfb6row1_col5,#T_fe92acd6_39fd_11ee_bdbb_96000040dfb6row2_col13,#T_fe92acd6_39fd_11ee_bdbb_96000040dfb6row3_col1,#T_fe92acd6_39fd_11ee_bdbb_96000040dfb6row10_col8,#T_fe92acd6_39fd_11ee_bdbb_96000040dfb6row13_col4{\n",
       "            background-color:  #93d741;\n",
       "            color:  #000000;\n",
       "        }#T_fe92acd6_39fd_11ee_bdbb_96000040dfb6row1_col7{\n",
       "            background-color:  #7ad151;\n",
       "            color:  #000000;\n",
       "        }#T_fe92acd6_39fd_11ee_bdbb_96000040dfb6row1_col8,#T_fe92acd6_39fd_11ee_bdbb_96000040dfb6row6_col11{\n",
       "            background-color:  #bade28;\n",
       "            color:  #000000;\n",
       "        }#T_fe92acd6_39fd_11ee_bdbb_96000040dfb6row1_col10{\n",
       "            background-color:  #d2e21b;\n",
       "            color:  #000000;\n",
       "        }#T_fe92acd6_39fd_11ee_bdbb_96000040dfb6row1_col11{\n",
       "            background-color:  #dfe318;\n",
       "            color:  #000000;\n",
       "        }#T_fe92acd6_39fd_11ee_bdbb_96000040dfb6row1_col12{\n",
       "            background-color:  #efe51c;\n",
       "            color:  #000000;\n",
       "        }#T_fe92acd6_39fd_11ee_bdbb_96000040dfb6row1_col14{\n",
       "            background-color:  #f8e621;\n",
       "            color:  #000000;\n",
       "        }#T_fe92acd6_39fd_11ee_bdbb_96000040dfb6row1_col16,#T_fe92acd6_39fd_11ee_bdbb_96000040dfb6row9_col4,#T_fe92acd6_39fd_11ee_bdbb_96000040dfb6row12_col5,#T_fe92acd6_39fd_11ee_bdbb_96000040dfb6row15_col3{\n",
       "            background-color:  #48c16e;\n",
       "            color:  #000000;\n",
       "        }#T_fe92acd6_39fd_11ee_bdbb_96000040dfb6row1_col17{\n",
       "            background-color:  #fbe723;\n",
       "            color:  #000000;\n",
       "        }#T_fe92acd6_39fd_11ee_bdbb_96000040dfb6row1_col18,#T_fe92acd6_39fd_11ee_bdbb_96000040dfb6row2_col11{\n",
       "            background-color:  #dde318;\n",
       "            color:  #000000;\n",
       "        }#T_fe92acd6_39fd_11ee_bdbb_96000040dfb6row1_col21,#T_fe92acd6_39fd_11ee_bdbb_96000040dfb6row2_col21,#T_fe92acd6_39fd_11ee_bdbb_96000040dfb6row3_col21,#T_fe92acd6_39fd_11ee_bdbb_96000040dfb6row4_col21,#T_fe92acd6_39fd_11ee_bdbb_96000040dfb6row5_col21,#T_fe92acd6_39fd_11ee_bdbb_96000040dfb6row6_col21,#T_fe92acd6_39fd_11ee_bdbb_96000040dfb6row7_col21,#T_fe92acd6_39fd_11ee_bdbb_96000040dfb6row8_col21,#T_fe92acd6_39fd_11ee_bdbb_96000040dfb6row9_col21,#T_fe92acd6_39fd_11ee_bdbb_96000040dfb6row10_col21,#T_fe92acd6_39fd_11ee_bdbb_96000040dfb6row11_col21,#T_fe92acd6_39fd_11ee_bdbb_96000040dfb6row12_col21,#T_fe92acd6_39fd_11ee_bdbb_96000040dfb6row13_col21,#T_fe92acd6_39fd_11ee_bdbb_96000040dfb6row14_col21,#T_fe92acd6_39fd_11ee_bdbb_96000040dfb6row15_col21,#T_fe92acd6_39fd_11ee_bdbb_96000040dfb6row16_col21,#T_fe92acd6_39fd_11ee_bdbb_96000040dfb6row17_col21,#T_fe92acd6_39fd_11ee_bdbb_96000040dfb6row18_col21,#T_fe92acd6_39fd_11ee_bdbb_96000040dfb6row19_col21,#T_fe92acd6_39fd_11ee_bdbb_96000040dfb6row20_col21,#T_fe92acd6_39fd_11ee_bdbb_96000040dfb6row21_col21{\n",
       "            background-color:  #440154;\n",
       "            color:  #f1f1f1;\n",
       "            background-color:  white;\n",
       "        }#T_fe92acd6_39fd_11ee_bdbb_96000040dfb6row2_col1,#T_fe92acd6_39fd_11ee_bdbb_96000040dfb6row5_col7,#T_fe92acd6_39fd_11ee_bdbb_96000040dfb6row6_col3,#T_fe92acd6_39fd_11ee_bdbb_96000040dfb6row9_col5{\n",
       "            background-color:  #20928c;\n",
       "            color:  #000000;\n",
       "        }#T_fe92acd6_39fd_11ee_bdbb_96000040dfb6row2_col2{\n",
       "            background-color:  #39568c;\n",
       "            color:  #f1f1f1;\n",
       "        }#T_fe92acd6_39fd_11ee_bdbb_96000040dfb6row2_col3{\n",
       "            background-color:  #297b8e;\n",
       "            color:  #000000;\n",
       "        }#T_fe92acd6_39fd_11ee_bdbb_96000040dfb6row2_col5{\n",
       "            background-color:  #3dbc74;\n",
       "            color:  #000000;\n",
       "        }#T_fe92acd6_39fd_11ee_bdbb_96000040dfb6row2_col7{\n",
       "            background-color:  #277f8e;\n",
       "            color:  #000000;\n",
       "        }#T_fe92acd6_39fd_11ee_bdbb_96000040dfb6row2_col8{\n",
       "            background-color:  #a0da39;\n",
       "            color:  #000000;\n",
       "        }#T_fe92acd6_39fd_11ee_bdbb_96000040dfb6row2_col9,#T_fe92acd6_39fd_11ee_bdbb_96000040dfb6row11_col7{\n",
       "            background-color:  #287d8e;\n",
       "            color:  #000000;\n",
       "        }#T_fe92acd6_39fd_11ee_bdbb_96000040dfb6row2_col10,#T_fe92acd6_39fd_11ee_bdbb_96000040dfb6row12_col3,#T_fe92acd6_39fd_11ee_bdbb_96000040dfb6row18_col1{\n",
       "            background-color:  #42be71;\n",
       "            color:  #000000;\n",
       "        }#T_fe92acd6_39fd_11ee_bdbb_96000040dfb6row2_col12,#T_fe92acd6_39fd_11ee_bdbb_96000040dfb6row3_col2,#T_fe92acd6_39fd_11ee_bdbb_96000040dfb6row6_col1{\n",
       "            background-color:  #2a778e;\n",
       "            color:  #000000;\n",
       "        }#T_fe92acd6_39fd_11ee_bdbb_96000040dfb6row2_col14,#T_fe92acd6_39fd_11ee_bdbb_96000040dfb6row16_col2{\n",
       "            background-color:  #2cb17e;\n",
       "            color:  #000000;\n",
       "        }#T_fe92acd6_39fd_11ee_bdbb_96000040dfb6row2_col16,#T_fe92acd6_39fd_11ee_bdbb_96000040dfb6row4_col12,#T_fe92acd6_39fd_11ee_bdbb_96000040dfb6row7_col11,#T_fe92acd6_39fd_11ee_bdbb_96000040dfb6row9_col7{\n",
       "            background-color:  #77d153;\n",
       "            color:  #000000;\n",
       "        }#T_fe92acd6_39fd_11ee_bdbb_96000040dfb6row2_col17,#T_fe92acd6_39fd_11ee_bdbb_96000040dfb6row3_col6,#T_fe92acd6_39fd_11ee_bdbb_96000040dfb6row7_col3{\n",
       "            background-color:  #5cc863;\n",
       "            color:  #000000;\n",
       "        }#T_fe92acd6_39fd_11ee_bdbb_96000040dfb6row2_col20,#T_fe92acd6_39fd_11ee_bdbb_96000040dfb6row3_col19,#T_fe92acd6_39fd_11ee_bdbb_96000040dfb6row3_col20,#T_fe92acd6_39fd_11ee_bdbb_96000040dfb6row4_col18,#T_fe92acd6_39fd_11ee_bdbb_96000040dfb6row4_col19,#T_fe92acd6_39fd_11ee_bdbb_96000040dfb6row4_col20,#T_fe92acd6_39fd_11ee_bdbb_96000040dfb6row5_col17,#T_fe92acd6_39fd_11ee_bdbb_96000040dfb6row5_col18,#T_fe92acd6_39fd_11ee_bdbb_96000040dfb6row5_col19,#T_fe92acd6_39fd_11ee_bdbb_96000040dfb6row5_col20,#T_fe92acd6_39fd_11ee_bdbb_96000040dfb6row6_col16,#T_fe92acd6_39fd_11ee_bdbb_96000040dfb6row6_col17,#T_fe92acd6_39fd_11ee_bdbb_96000040dfb6row6_col18,#T_fe92acd6_39fd_11ee_bdbb_96000040dfb6row6_col19,#T_fe92acd6_39fd_11ee_bdbb_96000040dfb6row6_col20,#T_fe92acd6_39fd_11ee_bdbb_96000040dfb6row7_col15,#T_fe92acd6_39fd_11ee_bdbb_96000040dfb6row7_col16,#T_fe92acd6_39fd_11ee_bdbb_96000040dfb6row7_col17,#T_fe92acd6_39fd_11ee_bdbb_96000040dfb6row7_col18,#T_fe92acd6_39fd_11ee_bdbb_96000040dfb6row7_col19,#T_fe92acd6_39fd_11ee_bdbb_96000040dfb6row7_col20,#T_fe92acd6_39fd_11ee_bdbb_96000040dfb6row8_col14,#T_fe92acd6_39fd_11ee_bdbb_96000040dfb6row8_col15,#T_fe92acd6_39fd_11ee_bdbb_96000040dfb6row8_col16,#T_fe92acd6_39fd_11ee_bdbb_96000040dfb6row8_col17,#T_fe92acd6_39fd_11ee_bdbb_96000040dfb6row8_col18,#T_fe92acd6_39fd_11ee_bdbb_96000040dfb6row8_col19,#T_fe92acd6_39fd_11ee_bdbb_96000040dfb6row8_col20,#T_fe92acd6_39fd_11ee_bdbb_96000040dfb6row9_col13,#T_fe92acd6_39fd_11ee_bdbb_96000040dfb6row9_col14,#T_fe92acd6_39fd_11ee_bdbb_96000040dfb6row9_col15,#T_fe92acd6_39fd_11ee_bdbb_96000040dfb6row9_col16,#T_fe92acd6_39fd_11ee_bdbb_96000040dfb6row9_col17,#T_fe92acd6_39fd_11ee_bdbb_96000040dfb6row9_col18,#T_fe92acd6_39fd_11ee_bdbb_96000040dfb6row9_col19,#T_fe92acd6_39fd_11ee_bdbb_96000040dfb6row9_col20,#T_fe92acd6_39fd_11ee_bdbb_96000040dfb6row10_col12,#T_fe92acd6_39fd_11ee_bdbb_96000040dfb6row10_col13,#T_fe92acd6_39fd_11ee_bdbb_96000040dfb6row10_col14,#T_fe92acd6_39fd_11ee_bdbb_96000040dfb6row10_col15,#T_fe92acd6_39fd_11ee_bdbb_96000040dfb6row10_col16,#T_fe92acd6_39fd_11ee_bdbb_96000040dfb6row10_col17,#T_fe92acd6_39fd_11ee_bdbb_96000040dfb6row10_col18,#T_fe92acd6_39fd_11ee_bdbb_96000040dfb6row10_col19,#T_fe92acd6_39fd_11ee_bdbb_96000040dfb6row10_col20,#T_fe92acd6_39fd_11ee_bdbb_96000040dfb6row11_col11,#T_fe92acd6_39fd_11ee_bdbb_96000040dfb6row11_col12,#T_fe92acd6_39fd_11ee_bdbb_96000040dfb6row11_col13,#T_fe92acd6_39fd_11ee_bdbb_96000040dfb6row11_col14,#T_fe92acd6_39fd_11ee_bdbb_96000040dfb6row11_col15,#T_fe92acd6_39fd_11ee_bdbb_96000040dfb6row11_col16,#T_fe92acd6_39fd_11ee_bdbb_96000040dfb6row11_col17,#T_fe92acd6_39fd_11ee_bdbb_96000040dfb6row11_col18,#T_fe92acd6_39fd_11ee_bdbb_96000040dfb6row11_col19,#T_fe92acd6_39fd_11ee_bdbb_96000040dfb6row11_col20,#T_fe92acd6_39fd_11ee_bdbb_96000040dfb6row12_col10,#T_fe92acd6_39fd_11ee_bdbb_96000040dfb6row12_col11,#T_fe92acd6_39fd_11ee_bdbb_96000040dfb6row12_col12,#T_fe92acd6_39fd_11ee_bdbb_96000040dfb6row12_col13,#T_fe92acd6_39fd_11ee_bdbb_96000040dfb6row12_col14,#T_fe92acd6_39fd_11ee_bdbb_96000040dfb6row12_col15,#T_fe92acd6_39fd_11ee_bdbb_96000040dfb6row12_col16,#T_fe92acd6_39fd_11ee_bdbb_96000040dfb6row12_col17,#T_fe92acd6_39fd_11ee_bdbb_96000040dfb6row12_col18,#T_fe92acd6_39fd_11ee_bdbb_96000040dfb6row12_col19,#T_fe92acd6_39fd_11ee_bdbb_96000040dfb6row12_col20,#T_fe92acd6_39fd_11ee_bdbb_96000040dfb6row13_col9,#T_fe92acd6_39fd_11ee_bdbb_96000040dfb6row13_col10,#T_fe92acd6_39fd_11ee_bdbb_96000040dfb6row13_col11,#T_fe92acd6_39fd_11ee_bdbb_96000040dfb6row13_col12,#T_fe92acd6_39fd_11ee_bdbb_96000040dfb6row13_col13,#T_fe92acd6_39fd_11ee_bdbb_96000040dfb6row13_col14,#T_fe92acd6_39fd_11ee_bdbb_96000040dfb6row13_col15,#T_fe92acd6_39fd_11ee_bdbb_96000040dfb6row13_col16,#T_fe92acd6_39fd_11ee_bdbb_96000040dfb6row13_col17,#T_fe92acd6_39fd_11ee_bdbb_96000040dfb6row13_col18,#T_fe92acd6_39fd_11ee_bdbb_96000040dfb6row13_col19,#T_fe92acd6_39fd_11ee_bdbb_96000040dfb6row13_col20,#T_fe92acd6_39fd_11ee_bdbb_96000040dfb6row14_col8,#T_fe92acd6_39fd_11ee_bdbb_96000040dfb6row14_col9,#T_fe92acd6_39fd_11ee_bdbb_96000040dfb6row14_col10,#T_fe92acd6_39fd_11ee_bdbb_96000040dfb6row14_col11,#T_fe92acd6_39fd_11ee_bdbb_96000040dfb6row14_col12,#T_fe92acd6_39fd_11ee_bdbb_96000040dfb6row14_col13,#T_fe92acd6_39fd_11ee_bdbb_96000040dfb6row14_col14,#T_fe92acd6_39fd_11ee_bdbb_96000040dfb6row14_col15,#T_fe92acd6_39fd_11ee_bdbb_96000040dfb6row14_col16,#T_fe92acd6_39fd_11ee_bdbb_96000040dfb6row14_col17,#T_fe92acd6_39fd_11ee_bdbb_96000040dfb6row14_col18,#T_fe92acd6_39fd_11ee_bdbb_96000040dfb6row14_col19,#T_fe92acd6_39fd_11ee_bdbb_96000040dfb6row14_col20,#T_fe92acd6_39fd_11ee_bdbb_96000040dfb6row15_col7,#T_fe92acd6_39fd_11ee_bdbb_96000040dfb6row15_col8,#T_fe92acd6_39fd_11ee_bdbb_96000040dfb6row15_col9,#T_fe92acd6_39fd_11ee_bdbb_96000040dfb6row15_col10,#T_fe92acd6_39fd_11ee_bdbb_96000040dfb6row15_col11,#T_fe92acd6_39fd_11ee_bdbb_96000040dfb6row15_col12,#T_fe92acd6_39fd_11ee_bdbb_96000040dfb6row15_col13,#T_fe92acd6_39fd_11ee_bdbb_96000040dfb6row15_col14,#T_fe92acd6_39fd_11ee_bdbb_96000040dfb6row15_col15,#T_fe92acd6_39fd_11ee_bdbb_96000040dfb6row15_col16,#T_fe92acd6_39fd_11ee_bdbb_96000040dfb6row15_col17,#T_fe92acd6_39fd_11ee_bdbb_96000040dfb6row15_col18,#T_fe92acd6_39fd_11ee_bdbb_96000040dfb6row15_col19,#T_fe92acd6_39fd_11ee_bdbb_96000040dfb6row15_col20,#T_fe92acd6_39fd_11ee_bdbb_96000040dfb6row16_col6,#T_fe92acd6_39fd_11ee_bdbb_96000040dfb6row16_col7,#T_fe92acd6_39fd_11ee_bdbb_96000040dfb6row16_col8,#T_fe92acd6_39fd_11ee_bdbb_96000040dfb6row16_col9,#T_fe92acd6_39fd_11ee_bdbb_96000040dfb6row16_col10,#T_fe92acd6_39fd_11ee_bdbb_96000040dfb6row16_col11,#T_fe92acd6_39fd_11ee_bdbb_96000040dfb6row16_col12,#T_fe92acd6_39fd_11ee_bdbb_96000040dfb6row16_col13,#T_fe92acd6_39fd_11ee_bdbb_96000040dfb6row16_col14,#T_fe92acd6_39fd_11ee_bdbb_96000040dfb6row16_col15,#T_fe92acd6_39fd_11ee_bdbb_96000040dfb6row16_col16,#T_fe92acd6_39fd_11ee_bdbb_96000040dfb6row16_col17,#T_fe92acd6_39fd_11ee_bdbb_96000040dfb6row16_col18,#T_fe92acd6_39fd_11ee_bdbb_96000040dfb6row16_col19,#T_fe92acd6_39fd_11ee_bdbb_96000040dfb6row16_col20,#T_fe92acd6_39fd_11ee_bdbb_96000040dfb6row17_col5,#T_fe92acd6_39fd_11ee_bdbb_96000040dfb6row17_col6,#T_fe92acd6_39fd_11ee_bdbb_96000040dfb6row17_col7,#T_fe92acd6_39fd_11ee_bdbb_96000040dfb6row17_col8,#T_fe92acd6_39fd_11ee_bdbb_96000040dfb6row17_col9,#T_fe92acd6_39fd_11ee_bdbb_96000040dfb6row17_col10,#T_fe92acd6_39fd_11ee_bdbb_96000040dfb6row17_col11,#T_fe92acd6_39fd_11ee_bdbb_96000040dfb6row17_col12,#T_fe92acd6_39fd_11ee_bdbb_96000040dfb6row17_col13,#T_fe92acd6_39fd_11ee_bdbb_96000040dfb6row17_col14,#T_fe92acd6_39fd_11ee_bdbb_96000040dfb6row17_col15,#T_fe92acd6_39fd_11ee_bdbb_96000040dfb6row17_col16,#T_fe92acd6_39fd_11ee_bdbb_96000040dfb6row17_col17,#T_fe92acd6_39fd_11ee_bdbb_96000040dfb6row17_col18,#T_fe92acd6_39fd_11ee_bdbb_96000040dfb6row17_col19,#T_fe92acd6_39fd_11ee_bdbb_96000040dfb6row17_col20,#T_fe92acd6_39fd_11ee_bdbb_96000040dfb6row18_col4,#T_fe92acd6_39fd_11ee_bdbb_96000040dfb6row18_col5,#T_fe92acd6_39fd_11ee_bdbb_96000040dfb6row18_col6,#T_fe92acd6_39fd_11ee_bdbb_96000040dfb6row18_col7,#T_fe92acd6_39fd_11ee_bdbb_96000040dfb6row18_col8,#T_fe92acd6_39fd_11ee_bdbb_96000040dfb6row18_col9,#T_fe92acd6_39fd_11ee_bdbb_96000040dfb6row18_col10,#T_fe92acd6_39fd_11ee_bdbb_96000040dfb6row18_col11,#T_fe92acd6_39fd_11ee_bdbb_96000040dfb6row18_col12,#T_fe92acd6_39fd_11ee_bdbb_96000040dfb6row18_col13,#T_fe92acd6_39fd_11ee_bdbb_96000040dfb6row18_col14,#T_fe92acd6_39fd_11ee_bdbb_96000040dfb6row18_col15,#T_fe92acd6_39fd_11ee_bdbb_96000040dfb6row18_col16,#T_fe92acd6_39fd_11ee_bdbb_96000040dfb6row18_col17,#T_fe92acd6_39fd_11ee_bdbb_96000040dfb6row18_col18,#T_fe92acd6_39fd_11ee_bdbb_96000040dfb6row18_col19,#T_fe92acd6_39fd_11ee_bdbb_96000040dfb6row18_col20,#T_fe92acd6_39fd_11ee_bdbb_96000040dfb6row19_col3,#T_fe92acd6_39fd_11ee_bdbb_96000040dfb6row19_col4,#T_fe92acd6_39fd_11ee_bdbb_96000040dfb6row19_col5,#T_fe92acd6_39fd_11ee_bdbb_96000040dfb6row19_col6,#T_fe92acd6_39fd_11ee_bdbb_96000040dfb6row19_col7,#T_fe92acd6_39fd_11ee_bdbb_96000040dfb6row19_col8,#T_fe92acd6_39fd_11ee_bdbb_96000040dfb6row19_col9,#T_fe92acd6_39fd_11ee_bdbb_96000040dfb6row19_col10,#T_fe92acd6_39fd_11ee_bdbb_96000040dfb6row19_col11,#T_fe92acd6_39fd_11ee_bdbb_96000040dfb6row19_col12,#T_fe92acd6_39fd_11ee_bdbb_96000040dfb6row19_col13,#T_fe92acd6_39fd_11ee_bdbb_96000040dfb6row19_col14,#T_fe92acd6_39fd_11ee_bdbb_96000040dfb6row19_col15,#T_fe92acd6_39fd_11ee_bdbb_96000040dfb6row19_col16,#T_fe92acd6_39fd_11ee_bdbb_96000040dfb6row19_col17,#T_fe92acd6_39fd_11ee_bdbb_96000040dfb6row19_col18,#T_fe92acd6_39fd_11ee_bdbb_96000040dfb6row19_col19,#T_fe92acd6_39fd_11ee_bdbb_96000040dfb6row19_col20,#T_fe92acd6_39fd_11ee_bdbb_96000040dfb6row20_col2,#T_fe92acd6_39fd_11ee_bdbb_96000040dfb6row20_col3,#T_fe92acd6_39fd_11ee_bdbb_96000040dfb6row20_col4,#T_fe92acd6_39fd_11ee_bdbb_96000040dfb6row20_col5,#T_fe92acd6_39fd_11ee_bdbb_96000040dfb6row20_col6,#T_fe92acd6_39fd_11ee_bdbb_96000040dfb6row20_col7,#T_fe92acd6_39fd_11ee_bdbb_96000040dfb6row20_col8,#T_fe92acd6_39fd_11ee_bdbb_96000040dfb6row20_col9,#T_fe92acd6_39fd_11ee_bdbb_96000040dfb6row20_col10,#T_fe92acd6_39fd_11ee_bdbb_96000040dfb6row20_col11,#T_fe92acd6_39fd_11ee_bdbb_96000040dfb6row20_col12,#T_fe92acd6_39fd_11ee_bdbb_96000040dfb6row20_col13,#T_fe92acd6_39fd_11ee_bdbb_96000040dfb6row20_col14,#T_fe92acd6_39fd_11ee_bdbb_96000040dfb6row20_col15,#T_fe92acd6_39fd_11ee_bdbb_96000040dfb6row20_col16,#T_fe92acd6_39fd_11ee_bdbb_96000040dfb6row20_col17,#T_fe92acd6_39fd_11ee_bdbb_96000040dfb6row20_col18,#T_fe92acd6_39fd_11ee_bdbb_96000040dfb6row20_col19,#T_fe92acd6_39fd_11ee_bdbb_96000040dfb6row20_col20,#T_fe92acd6_39fd_11ee_bdbb_96000040dfb6row21_col1,#T_fe92acd6_39fd_11ee_bdbb_96000040dfb6row21_col2,#T_fe92acd6_39fd_11ee_bdbb_96000040dfb6row21_col3,#T_fe92acd6_39fd_11ee_bdbb_96000040dfb6row21_col4,#T_fe92acd6_39fd_11ee_bdbb_96000040dfb6row21_col5,#T_fe92acd6_39fd_11ee_bdbb_96000040dfb6row21_col6,#T_fe92acd6_39fd_11ee_bdbb_96000040dfb6row21_col7,#T_fe92acd6_39fd_11ee_bdbb_96000040dfb6row21_col8,#T_fe92acd6_39fd_11ee_bdbb_96000040dfb6row21_col9,#T_fe92acd6_39fd_11ee_bdbb_96000040dfb6row21_col10,#T_fe92acd6_39fd_11ee_bdbb_96000040dfb6row21_col11,#T_fe92acd6_39fd_11ee_bdbb_96000040dfb6row21_col12,#T_fe92acd6_39fd_11ee_bdbb_96000040dfb6row21_col13,#T_fe92acd6_39fd_11ee_bdbb_96000040dfb6row21_col14,#T_fe92acd6_39fd_11ee_bdbb_96000040dfb6row21_col15,#T_fe92acd6_39fd_11ee_bdbb_96000040dfb6row21_col16,#T_fe92acd6_39fd_11ee_bdbb_96000040dfb6row21_col17,#T_fe92acd6_39fd_11ee_bdbb_96000040dfb6row21_col18,#T_fe92acd6_39fd_11ee_bdbb_96000040dfb6row21_col19,#T_fe92acd6_39fd_11ee_bdbb_96000040dfb6row21_col20{\n",
       "            background-color:  #000000;\n",
       "            color:  #f1f1f1;\n",
       "            background-color:  white;\n",
       "        }#T_fe92acd6_39fd_11ee_bdbb_96000040dfb6row3_col3{\n",
       "            background-color:  #58c765;\n",
       "            color:  #000000;\n",
       "        }#T_fe92acd6_39fd_11ee_bdbb_96000040dfb6row3_col5,#T_fe92acd6_39fd_11ee_bdbb_96000040dfb6row18_col2{\n",
       "            background-color:  #1f9e89;\n",
       "            color:  #000000;\n",
       "        }#T_fe92acd6_39fd_11ee_bdbb_96000040dfb6row3_col7{\n",
       "            background-color:  #297a8e;\n",
       "            color:  #000000;\n",
       "        }#T_fe92acd6_39fd_11ee_bdbb_96000040dfb6row3_col8{\n",
       "            background-color:  #6ece58;\n",
       "            color:  #000000;\n",
       "        }#T_fe92acd6_39fd_11ee_bdbb_96000040dfb6row3_col9,#T_fe92acd6_39fd_11ee_bdbb_96000040dfb6row6_col14{\n",
       "            background-color:  #5ec962;\n",
       "            color:  #000000;\n",
       "        }#T_fe92acd6_39fd_11ee_bdbb_96000040dfb6row3_col10{\n",
       "            background-color:  #89d548;\n",
       "            color:  #000000;\n",
       "        }#T_fe92acd6_39fd_11ee_bdbb_96000040dfb6row3_col11{\n",
       "            background-color:  #98d83e;\n",
       "            color:  #000000;\n",
       "        }#T_fe92acd6_39fd_11ee_bdbb_96000040dfb6row3_col12{\n",
       "            background-color:  #228d8d;\n",
       "            color:  #000000;\n",
       "        }#T_fe92acd6_39fd_11ee_bdbb_96000040dfb6row3_col13,#T_fe92acd6_39fd_11ee_bdbb_96000040dfb6row7_col5{\n",
       "            background-color:  #60ca60;\n",
       "            color:  #000000;\n",
       "        }#T_fe92acd6_39fd_11ee_bdbb_96000040dfb6row3_col14,#T_fe92acd6_39fd_11ee_bdbb_96000040dfb6row5_col5{\n",
       "            background-color:  #3aba76;\n",
       "            color:  #000000;\n",
       "        }#T_fe92acd6_39fd_11ee_bdbb_96000040dfb6row3_col15{\n",
       "            background-color:  #c5e021;\n",
       "            color:  #000000;\n",
       "        }#T_fe92acd6_39fd_11ee_bdbb_96000040dfb6row3_col17{\n",
       "            background-color:  #e5e419;\n",
       "            color:  #000000;\n",
       "        }#T_fe92acd6_39fd_11ee_bdbb_96000040dfb6row4_col2{\n",
       "            background-color:  #1e9c89;\n",
       "            color:  #000000;\n",
       "        }#T_fe92acd6_39fd_11ee_bdbb_96000040dfb6row4_col4,#T_fe92acd6_39fd_11ee_bdbb_96000040dfb6row8_col10,#T_fe92acd6_39fd_11ee_bdbb_96000040dfb6row9_col3{\n",
       "            background-color:  #44bf70;\n",
       "            color:  #000000;\n",
       "        }#T_fe92acd6_39fd_11ee_bdbb_96000040dfb6row4_col5{\n",
       "            background-color:  #1e9d89;\n",
       "            color:  #000000;\n",
       "        }#T_fe92acd6_39fd_11ee_bdbb_96000040dfb6row4_col6,#T_fe92acd6_39fd_11ee_bdbb_96000040dfb6row12_col1,#T_fe92acd6_39fd_11ee_bdbb_96000040dfb6row13_col1{\n",
       "            background-color:  #22a884;\n",
       "            color:  #000000;\n",
       "        }#T_fe92acd6_39fd_11ee_bdbb_96000040dfb6row4_col7,#T_fe92acd6_39fd_11ee_bdbb_96000040dfb6row11_col5{\n",
       "            background-color:  #50c46a;\n",
       "            color:  #000000;\n",
       "        }#T_fe92acd6_39fd_11ee_bdbb_96000040dfb6row4_col9,#T_fe92acd6_39fd_11ee_bdbb_96000040dfb6row6_col6{\n",
       "            background-color:  #67cc5c;\n",
       "            color:  #000000;\n",
       "        }#T_fe92acd6_39fd_11ee_bdbb_96000040dfb6row4_col10{\n",
       "            background-color:  #26828e;\n",
       "            color:  #000000;\n",
       "        }#T_fe92acd6_39fd_11ee_bdbb_96000040dfb6row4_col15,#T_fe92acd6_39fd_11ee_bdbb_96000040dfb6row6_col13,#T_fe92acd6_39fd_11ee_bdbb_96000040dfb6row10_col9{\n",
       "            background-color:  #34b679;\n",
       "            color:  #000000;\n",
       "        }#T_fe92acd6_39fd_11ee_bdbb_96000040dfb6row5_col1{\n",
       "            background-color:  #c8e020;\n",
       "            color:  #000000;\n",
       "        }#T_fe92acd6_39fd_11ee_bdbb_96000040dfb6row5_col2,#T_fe92acd6_39fd_11ee_bdbb_96000040dfb6row11_col6,#T_fe92acd6_39fd_11ee_bdbb_96000040dfb6row14_col2{\n",
       "            background-color:  #1f958b;\n",
       "            color:  #000000;\n",
       "        }#T_fe92acd6_39fd_11ee_bdbb_96000040dfb6row5_col4{\n",
       "            background-color:  #20938c;\n",
       "            color:  #000000;\n",
       "        }#T_fe92acd6_39fd_11ee_bdbb_96000040dfb6row5_col8,#T_fe92acd6_39fd_11ee_bdbb_96000040dfb6row11_col1{\n",
       "            background-color:  #218f8d;\n",
       "            color:  #000000;\n",
       "        }#T_fe92acd6_39fd_11ee_bdbb_96000040dfb6row5_col9{\n",
       "            background-color:  #7cd250;\n",
       "            color:  #000000;\n",
       "        }#T_fe92acd6_39fd_11ee_bdbb_96000040dfb6row5_col10{\n",
       "            background-color:  #84d44b;\n",
       "            color:  #000000;\n",
       "        }#T_fe92acd6_39fd_11ee_bdbb_96000040dfb6row5_col12,#T_fe92acd6_39fd_11ee_bdbb_96000040dfb6row8_col9,#T_fe92acd6_39fd_11ee_bdbb_96000040dfb6row13_col5{\n",
       "            background-color:  #228c8d;\n",
       "            color:  #000000;\n",
       "        }#T_fe92acd6_39fd_11ee_bdbb_96000040dfb6row5_col14,#T_fe92acd6_39fd_11ee_bdbb_96000040dfb6row12_col8{\n",
       "            background-color:  #21a685;\n",
       "            color:  #000000;\n",
       "        }#T_fe92acd6_39fd_11ee_bdbb_96000040dfb6row5_col15{\n",
       "            background-color:  #addc30;\n",
       "            color:  #000000;\n",
       "        }#T_fe92acd6_39fd_11ee_bdbb_96000040dfb6row6_col2,#T_fe92acd6_39fd_11ee_bdbb_96000040dfb6row7_col1,#T_fe92acd6_39fd_11ee_bdbb_96000040dfb6row14_col4{\n",
       "            background-color:  #2b758e;\n",
       "            color:  #f1f1f1;\n",
       "        }#T_fe92acd6_39fd_11ee_bdbb_96000040dfb6row6_col4,#T_fe92acd6_39fd_11ee_bdbb_96000040dfb6row13_col2{\n",
       "            background-color:  #25838e;\n",
       "            color:  #000000;\n",
       "        }#T_fe92acd6_39fd_11ee_bdbb_96000040dfb6row6_col7{\n",
       "            background-color:  #a8db34;\n",
       "            color:  #000000;\n",
       "        }#T_fe92acd6_39fd_11ee_bdbb_96000040dfb6row6_col8{\n",
       "            background-color:  #7fd34e;\n",
       "            color:  #000000;\n",
       "        }#T_fe92acd6_39fd_11ee_bdbb_96000040dfb6row7_col2{\n",
       "            background-color:  #482576;\n",
       "            color:  #f1f1f1;\n",
       "        }#T_fe92acd6_39fd_11ee_bdbb_96000040dfb6row7_col6{\n",
       "            background-color:  #306a8e;\n",
       "            color:  #f1f1f1;\n",
       "        }#T_fe92acd6_39fd_11ee_bdbb_96000040dfb6row7_col7{\n",
       "            background-color:  #3bbb75;\n",
       "            color:  #000000;\n",
       "        }#T_fe92acd6_39fd_11ee_bdbb_96000040dfb6row7_col8,#T_fe92acd6_39fd_11ee_bdbb_96000040dfb6row16_col4{\n",
       "            background-color:  #1fa088;\n",
       "            color:  #000000;\n",
       "        }#T_fe92acd6_39fd_11ee_bdbb_96000040dfb6row7_col9{\n",
       "            background-color:  #29af7f;\n",
       "            color:  #000000;\n",
       "        }#T_fe92acd6_39fd_11ee_bdbb_96000040dfb6row7_col10{\n",
       "            background-color:  #471365;\n",
       "            color:  #f1f1f1;\n",
       "        }#T_fe92acd6_39fd_11ee_bdbb_96000040dfb6row7_col12,#T_fe92acd6_39fd_11ee_bdbb_96000040dfb6row9_col6{\n",
       "            background-color:  #1fa187;\n",
       "            color:  #000000;\n",
       "        }#T_fe92acd6_39fd_11ee_bdbb_96000040dfb6row7_col13{\n",
       "            background-color:  #1f978b;\n",
       "            color:  #000000;\n",
       "        }#T_fe92acd6_39fd_11ee_bdbb_96000040dfb6row8_col1{\n",
       "            background-color:  #1f968b;\n",
       "            color:  #000000;\n",
       "        }#T_fe92acd6_39fd_11ee_bdbb_96000040dfb6row8_col2,#T_fe92acd6_39fd_11ee_bdbb_96000040dfb6row11_col4{\n",
       "            background-color:  #1f998a;\n",
       "            color:  #000000;\n",
       "        }#T_fe92acd6_39fd_11ee_bdbb_96000040dfb6row8_col4{\n",
       "            background-color:  #3c508b;\n",
       "            color:  #f1f1f1;\n",
       "        }#T_fe92acd6_39fd_11ee_bdbb_96000040dfb6row8_col5,#T_fe92acd6_39fd_11ee_bdbb_96000040dfb6row14_col5{\n",
       "            background-color:  #70cf57;\n",
       "            color:  #000000;\n",
       "        }#T_fe92acd6_39fd_11ee_bdbb_96000040dfb6row8_col6{\n",
       "            background-color:  #238a8d;\n",
       "            color:  #000000;\n",
       "        }#T_fe92acd6_39fd_11ee_bdbb_96000040dfb6row8_col11{\n",
       "            background-color:  #40bd72;\n",
       "            color:  #000000;\n",
       "        }#T_fe92acd6_39fd_11ee_bdbb_96000040dfb6row9_col1{\n",
       "            background-color:  #414287;\n",
       "            color:  #f1f1f1;\n",
       "        }#T_fe92acd6_39fd_11ee_bdbb_96000040dfb6row9_col2{\n",
       "            background-color:  #27808e;\n",
       "            color:  #000000;\n",
       "        }#T_fe92acd6_39fd_11ee_bdbb_96000040dfb6row9_col8{\n",
       "            background-color:  #1fa287;\n",
       "            color:  #000000;\n",
       "        }#T_fe92acd6_39fd_11ee_bdbb_96000040dfb6row9_col9{\n",
       "            background-color:  #1f948c;\n",
       "            color:  #000000;\n",
       "        }#T_fe92acd6_39fd_11ee_bdbb_96000040dfb6row9_col10{\n",
       "            background-color:  #25ab82;\n",
       "            color:  #000000;\n",
       "        }#T_fe92acd6_39fd_11ee_bdbb_96000040dfb6row9_col11{\n",
       "            background-color:  #b5de2b;\n",
       "            color:  #000000;\n",
       "        }#T_fe92acd6_39fd_11ee_bdbb_96000040dfb6row10_col1{\n",
       "            background-color:  #23898e;\n",
       "            color:  #000000;\n",
       "        }#T_fe92acd6_39fd_11ee_bdbb_96000040dfb6row10_col5,#T_fe92acd6_39fd_11ee_bdbb_96000040dfb6row11_col9,#T_fe92acd6_39fd_11ee_bdbb_96000040dfb6row16_col3{\n",
       "            background-color:  #23a983;\n",
       "            color:  #000000;\n",
       "        }#T_fe92acd6_39fd_11ee_bdbb_96000040dfb6row10_col6,#T_fe92acd6_39fd_11ee_bdbb_96000040dfb6row15_col2{\n",
       "            background-color:  #1f9a8a;\n",
       "            color:  #000000;\n",
       "        }#T_fe92acd6_39fd_11ee_bdbb_96000040dfb6row11_col2{\n",
       "            background-color:  #25848e;\n",
       "            color:  #000000;\n",
       "        }#T_fe92acd6_39fd_11ee_bdbb_96000040dfb6row11_col8{\n",
       "            background-color:  #35b779;\n",
       "            color:  #000000;\n",
       "        }#T_fe92acd6_39fd_11ee_bdbb_96000040dfb6row12_col2{\n",
       "            background-color:  #2f6b8e;\n",
       "            color:  #f1f1f1;\n",
       "        }#T_fe92acd6_39fd_11ee_bdbb_96000040dfb6row12_col4{\n",
       "            background-color:  #22a785;\n",
       "            color:  #000000;\n",
       "        }#T_fe92acd6_39fd_11ee_bdbb_96000040dfb6row12_col6{\n",
       "            background-color:  #2ab07f;\n",
       "            color:  #000000;\n",
       "        }#T_fe92acd6_39fd_11ee_bdbb_96000040dfb6row13_col7{\n",
       "            background-color:  #26ad81;\n",
       "            color:  #000000;\n",
       "        }#T_fe92acd6_39fd_11ee_bdbb_96000040dfb6row14_col1{\n",
       "            background-color:  #23888e;\n",
       "            color:  #000000;\n",
       "        }#T_fe92acd6_39fd_11ee_bdbb_96000040dfb6row14_col6{\n",
       "            background-color:  #28ae80;\n",
       "            color:  #000000;\n",
       "        }#T_fe92acd6_39fd_11ee_bdbb_96000040dfb6row15_col1{\n",
       "            background-color:  #2e6d8e;\n",
       "            color:  #f1f1f1;\n",
       "        }#T_fe92acd6_39fd_11ee_bdbb_96000040dfb6row15_col5{\n",
       "            background-color:  #31b57b;\n",
       "            color:  #000000;\n",
       "        }#T_fe92acd6_39fd_11ee_bdbb_96000040dfb6row16_col1{\n",
       "            background-color:  #24868e;\n",
       "            color:  #000000;\n",
       "        }#T_fe92acd6_39fd_11ee_bdbb_96000040dfb6row17_col1{\n",
       "            background-color:  #26818e;\n",
       "            color:  #000000;\n",
       "        }#T_fe92acd6_39fd_11ee_bdbb_96000040dfb6row17_col2{\n",
       "            background-color:  #3d4d8a;\n",
       "            color:  #f1f1f1;\n",
       "        }#T_fe92acd6_39fd_11ee_bdbb_96000040dfb6row19_col1{\n",
       "            background-color:  #25858e;\n",
       "            color:  #000000;\n",
       "        }</style><table id=\"T_fe92acd6_39fd_11ee_bdbb_96000040dfb6\" ><caption>User retention by cohort</caption><thead>    <tr>        <th class=\"index_name level0\" >cohort_index</th>        <th class=\"col_heading level0 col0\" >0</th>        <th class=\"col_heading level0 col1\" >1</th>        <th class=\"col_heading level0 col2\" >2</th>        <th class=\"col_heading level0 col3\" >3</th>        <th class=\"col_heading level0 col4\" >4</th>        <th class=\"col_heading level0 col5\" >5</th>        <th class=\"col_heading level0 col6\" >6</th>        <th class=\"col_heading level0 col7\" >7</th>        <th class=\"col_heading level0 col8\" >8</th>        <th class=\"col_heading level0 col9\" >9</th>        <th class=\"col_heading level0 col10\" >10</th>        <th class=\"col_heading level0 col11\" >11</th>        <th class=\"col_heading level0 col12\" >12</th>        <th class=\"col_heading level0 col13\" >13</th>        <th class=\"col_heading level0 col14\" >14</th>        <th class=\"col_heading level0 col15\" >15</th>        <th class=\"col_heading level0 col16\" >16</th>        <th class=\"col_heading level0 col17\" >17</th>        <th class=\"col_heading level0 col18\" >18</th>        <th class=\"col_heading level0 col19\" >19</th>        <th class=\"col_heading level0 col20\" >20</th>        <th class=\"col_heading level0 col21\" >21</th>    </tr>    <tr>        <th class=\"index_name level0\" >reg_ts</th>        <th class=\"blank\" ></th>        <th class=\"blank\" ></th>        <th class=\"blank\" ></th>        <th class=\"blank\" ></th>        <th class=\"blank\" ></th>        <th class=\"blank\" ></th>        <th class=\"blank\" ></th>        <th class=\"blank\" ></th>        <th class=\"blank\" ></th>        <th class=\"blank\" ></th>        <th class=\"blank\" ></th>        <th class=\"blank\" ></th>        <th class=\"blank\" ></th>        <th class=\"blank\" ></th>        <th class=\"blank\" ></th>        <th class=\"blank\" ></th>        <th class=\"blank\" ></th>        <th class=\"blank\" ></th>        <th class=\"blank\" ></th>        <th class=\"blank\" ></th>        <th class=\"blank\" ></th>        <th class=\"blank\" ></th>    </tr></thead><tbody>\n",
       "                <tr>\n",
       "                        <th id=\"T_fe92acd6_39fd_11ee_bdbb_96000040dfb6level0_row0\" class=\"row_heading level0 row0\" >2020-09-02 00:00:00</th>\n",
       "                        <td id=\"T_fe92acd6_39fd_11ee_bdbb_96000040dfb6row0_col0\" class=\"data row0 col0\" >100.00%</td>\n",
       "                        <td id=\"T_fe92acd6_39fd_11ee_bdbb_96000040dfb6row0_col1\" class=\"data row0 col1\" >2.52%</td>\n",
       "                        <td id=\"T_fe92acd6_39fd_11ee_bdbb_96000040dfb6row0_col2\" class=\"data row0 col2\" >3.90%</td>\n",
       "                        <td id=\"T_fe92acd6_39fd_11ee_bdbb_96000040dfb6row0_col3\" class=\"data row0 col3\" >4.66%</td>\n",
       "                        <td id=\"T_fe92acd6_39fd_11ee_bdbb_96000040dfb6row0_col4\" class=\"data row0 col4\" >5.67%</td>\n",
       "                        <td id=\"T_fe92acd6_39fd_11ee_bdbb_96000040dfb6row0_col5\" class=\"data row0 col5\" >6.23%</td>\n",
       "                        <td id=\"T_fe92acd6_39fd_11ee_bdbb_96000040dfb6row0_col6\" class=\"data row0 col6\" >7.12%</td>\n",
       "                        <td id=\"T_fe92acd6_39fd_11ee_bdbb_96000040dfb6row0_col7\" class=\"data row0 col7\" >6.30%</td>\n",
       "                        <td id=\"T_fe92acd6_39fd_11ee_bdbb_96000040dfb6row0_col8\" class=\"data row0 col8\" >4.85%</td>\n",
       "                        <td id=\"T_fe92acd6_39fd_11ee_bdbb_96000040dfb6row0_col9\" class=\"data row0 col9\" >4.09%</td>\n",
       "                        <td id=\"T_fe92acd6_39fd_11ee_bdbb_96000040dfb6row0_col10\" class=\"data row0 col10\" >5.67%</td>\n",
       "                        <td id=\"T_fe92acd6_39fd_11ee_bdbb_96000040dfb6row0_col11\" class=\"data row0 col11\" >5.48%</td>\n",
       "                        <td id=\"T_fe92acd6_39fd_11ee_bdbb_96000040dfb6row0_col12\" class=\"data row0 col12\" >5.48%</td>\n",
       "                        <td id=\"T_fe92acd6_39fd_11ee_bdbb_96000040dfb6row0_col13\" class=\"data row0 col13\" >4.35%</td>\n",
       "                        <td id=\"T_fe92acd6_39fd_11ee_bdbb_96000040dfb6row0_col14\" class=\"data row0 col14\" >4.97%</td>\n",
       "                        <td id=\"T_fe92acd6_39fd_11ee_bdbb_96000040dfb6row0_col15\" class=\"data row0 col15\" >5.29%</td>\n",
       "                        <td id=\"T_fe92acd6_39fd_11ee_bdbb_96000040dfb6row0_col16\" class=\"data row0 col16\" >4.16%</td>\n",
       "                        <td id=\"T_fe92acd6_39fd_11ee_bdbb_96000040dfb6row0_col17\" class=\"data row0 col17\" >4.85%</td>\n",
       "                        <td id=\"T_fe92acd6_39fd_11ee_bdbb_96000040dfb6row0_col18\" class=\"data row0 col18\" >3.90%</td>\n",
       "                        <td id=\"T_fe92acd6_39fd_11ee_bdbb_96000040dfb6row0_col19\" class=\"data row0 col19\" >3.72%</td>\n",
       "                        <td id=\"T_fe92acd6_39fd_11ee_bdbb_96000040dfb6row0_col20\" class=\"data row0 col20\" >4.66%</td>\n",
       "                        <td id=\"T_fe92acd6_39fd_11ee_bdbb_96000040dfb6row0_col21\" class=\"data row0 col21\" >2.64%</td>\n",
       "            </tr>\n",
       "            <tr>\n",
       "                        <th id=\"T_fe92acd6_39fd_11ee_bdbb_96000040dfb6level0_row1\" class=\"row_heading level0 row1\" >2020-09-03 00:00:00</th>\n",
       "                        <td id=\"T_fe92acd6_39fd_11ee_bdbb_96000040dfb6row1_col0\" class=\"data row1 col0\" >100.00%</td>\n",
       "                        <td id=\"T_fe92acd6_39fd_11ee_bdbb_96000040dfb6row1_col1\" class=\"data row1 col1\" >2.33%</td>\n",
       "                        <td id=\"T_fe92acd6_39fd_11ee_bdbb_96000040dfb6row1_col2\" class=\"data row1 col2\" >5.41%</td>\n",
       "                        <td id=\"T_fe92acd6_39fd_11ee_bdbb_96000040dfb6row1_col3\" class=\"data row1 col3\" >4.71%</td>\n",
       "                        <td id=\"T_fe92acd6_39fd_11ee_bdbb_96000040dfb6row1_col4\" class=\"data row1 col4\" >6.54%</td>\n",
       "                        <td id=\"T_fe92acd6_39fd_11ee_bdbb_96000040dfb6row1_col5\" class=\"data row1 col5\" >6.98%</td>\n",
       "                        <td id=\"T_fe92acd6_39fd_11ee_bdbb_96000040dfb6row1_col6\" class=\"data row1 col6\" >8.55%</td>\n",
       "                        <td id=\"T_fe92acd6_39fd_11ee_bdbb_96000040dfb6row1_col7\" class=\"data row1 col7\" >6.35%</td>\n",
       "                        <td id=\"T_fe92acd6_39fd_11ee_bdbb_96000040dfb6row1_col8\" class=\"data row1 col8\" >5.47%</td>\n",
       "                        <td id=\"T_fe92acd6_39fd_11ee_bdbb_96000040dfb6row1_col9\" class=\"data row1 col9\" >6.29%</td>\n",
       "                        <td id=\"T_fe92acd6_39fd_11ee_bdbb_96000040dfb6row1_col10\" class=\"data row1 col10\" >6.35%</td>\n",
       "                        <td id=\"T_fe92acd6_39fd_11ee_bdbb_96000040dfb6row1_col11\" class=\"data row1 col11\" >5.53%</td>\n",
       "                        <td id=\"T_fe92acd6_39fd_11ee_bdbb_96000040dfb6row1_col12\" class=\"data row1 col12\" >5.85%</td>\n",
       "                        <td id=\"T_fe92acd6_39fd_11ee_bdbb_96000040dfb6row1_col13\" class=\"data row1 col13\" >5.97%</td>\n",
       "                        <td id=\"T_fe92acd6_39fd_11ee_bdbb_96000040dfb6row1_col14\" class=\"data row1 col14\" >5.47%</td>\n",
       "                        <td id=\"T_fe92acd6_39fd_11ee_bdbb_96000040dfb6row1_col15\" class=\"data row1 col15\" >5.34%</td>\n",
       "                        <td id=\"T_fe92acd6_39fd_11ee_bdbb_96000040dfb6row1_col16\" class=\"data row1 col16\" >4.40%</td>\n",
       "                        <td id=\"T_fe92acd6_39fd_11ee_bdbb_96000040dfb6row1_col17\" class=\"data row1 col17\" >4.84%</td>\n",
       "                        <td id=\"T_fe92acd6_39fd_11ee_bdbb_96000040dfb6row1_col18\" class=\"data row1 col18\" >4.65%</td>\n",
       "                        <td id=\"T_fe92acd6_39fd_11ee_bdbb_96000040dfb6row1_col19\" class=\"data row1 col19\" >5.47%</td>\n",
       "                        <td id=\"T_fe92acd6_39fd_11ee_bdbb_96000040dfb6row1_col20\" class=\"data row1 col20\" >2.39%</td>\n",
       "                        <td id=\"T_fe92acd6_39fd_11ee_bdbb_96000040dfb6row1_col21\" class=\"data row1 col21\" ></td>\n",
       "            </tr>\n",
       "            <tr>\n",
       "                        <th id=\"T_fe92acd6_39fd_11ee_bdbb_96000040dfb6level0_row2\" class=\"row_heading level0 row2\" >2020-09-04 00:00:00</th>\n",
       "                        <td id=\"T_fe92acd6_39fd_11ee_bdbb_96000040dfb6row2_col0\" class=\"data row2 col0\" >100.00%</td>\n",
       "                        <td id=\"T_fe92acd6_39fd_11ee_bdbb_96000040dfb6row2_col1\" class=\"data row2 col1\" >2.01%</td>\n",
       "                        <td id=\"T_fe92acd6_39fd_11ee_bdbb_96000040dfb6row2_col2\" class=\"data row2 col2\" >3.64%</td>\n",
       "                        <td id=\"T_fe92acd6_39fd_11ee_bdbb_96000040dfb6row2_col3\" class=\"data row2 col3\" >3.64%</td>\n",
       "                        <td id=\"T_fe92acd6_39fd_11ee_bdbb_96000040dfb6row2_col4\" class=\"data row2 col4\" >5.15%</td>\n",
       "                        <td id=\"T_fe92acd6_39fd_11ee_bdbb_96000040dfb6row2_col5\" class=\"data row2 col5\" >6.40%</td>\n",
       "                        <td id=\"T_fe92acd6_39fd_11ee_bdbb_96000040dfb6row2_col6\" class=\"data row2 col6\" >7.28%</td>\n",
       "                        <td id=\"T_fe92acd6_39fd_11ee_bdbb_96000040dfb6row2_col7\" class=\"data row2 col7\" >4.96%</td>\n",
       "                        <td id=\"T_fe92acd6_39fd_11ee_bdbb_96000040dfb6row2_col8\" class=\"data row2 col8\" >5.34%</td>\n",
       "                        <td id=\"T_fe92acd6_39fd_11ee_bdbb_96000040dfb6row2_col9\" class=\"data row2 col9\" >4.33%</td>\n",
       "                        <td id=\"T_fe92acd6_39fd_11ee_bdbb_96000040dfb6row2_col10\" class=\"data row2 col10\" >5.65%</td>\n",
       "                        <td id=\"T_fe92acd6_39fd_11ee_bdbb_96000040dfb6row2_col11\" class=\"data row2 col11\" >5.52%</td>\n",
       "                        <td id=\"T_fe92acd6_39fd_11ee_bdbb_96000040dfb6row2_col12\" class=\"data row2 col12\" >4.33%</td>\n",
       "                        <td id=\"T_fe92acd6_39fd_11ee_bdbb_96000040dfb6row2_col13\" class=\"data row2 col13\" >5.59%</td>\n",
       "                        <td id=\"T_fe92acd6_39fd_11ee_bdbb_96000040dfb6row2_col14\" class=\"data row2 col14\" >4.39%</td>\n",
       "                        <td id=\"T_fe92acd6_39fd_11ee_bdbb_96000040dfb6row2_col15\" class=\"data row2 col15\" >4.52%</td>\n",
       "                        <td id=\"T_fe92acd6_39fd_11ee_bdbb_96000040dfb6row2_col16\" class=\"data row2 col16\" >4.52%</td>\n",
       "                        <td id=\"T_fe92acd6_39fd_11ee_bdbb_96000040dfb6row2_col17\" class=\"data row2 col17\" >4.27%</td>\n",
       "                        <td id=\"T_fe92acd6_39fd_11ee_bdbb_96000040dfb6row2_col18\" class=\"data row2 col18\" >4.77%</td>\n",
       "                        <td id=\"T_fe92acd6_39fd_11ee_bdbb_96000040dfb6row2_col19\" class=\"data row2 col19\" >2.64%</td>\n",
       "                        <td id=\"T_fe92acd6_39fd_11ee_bdbb_96000040dfb6row2_col20\" class=\"data row2 col20\" ></td>\n",
       "                        <td id=\"T_fe92acd6_39fd_11ee_bdbb_96000040dfb6row2_col21\" class=\"data row2 col21\" ></td>\n",
       "            </tr>\n",
       "            <tr>\n",
       "                        <th id=\"T_fe92acd6_39fd_11ee_bdbb_96000040dfb6level0_row3\" class=\"row_heading level0 row3\" >2020-09-05 00:00:00</th>\n",
       "                        <td id=\"T_fe92acd6_39fd_11ee_bdbb_96000040dfb6row3_col0\" class=\"data row3 col0\" >100.00%</td>\n",
       "                        <td id=\"T_fe92acd6_39fd_11ee_bdbb_96000040dfb6row3_col1\" class=\"data row3 col1\" >2.76%</td>\n",
       "                        <td id=\"T_fe92acd6_39fd_11ee_bdbb_96000040dfb6row3_col2\" class=\"data row3 col2\" >3.95%</td>\n",
       "                        <td id=\"T_fe92acd6_39fd_11ee_bdbb_96000040dfb6row3_col3\" class=\"data row3 col3\" >4.64%</td>\n",
       "                        <td id=\"T_fe92acd6_39fd_11ee_bdbb_96000040dfb6row3_col4\" class=\"data row3 col4\" >5.45%</td>\n",
       "                        <td id=\"T_fe92acd6_39fd_11ee_bdbb_96000040dfb6row3_col5\" class=\"data row3 col5\" >5.89%</td>\n",
       "                        <td id=\"T_fe92acd6_39fd_11ee_bdbb_96000040dfb6row3_col6\" class=\"data row3 col6\" >7.46%</td>\n",
       "                        <td id=\"T_fe92acd6_39fd_11ee_bdbb_96000040dfb6row3_col7\" class=\"data row3 col7\" >4.89%</td>\n",
       "                        <td id=\"T_fe92acd6_39fd_11ee_bdbb_96000040dfb6row3_col8\" class=\"data row3 col8\" >5.08%</td>\n",
       "                        <td id=\"T_fe92acd6_39fd_11ee_bdbb_96000040dfb6row3_col9\" class=\"data row3 col9\" >5.45%</td>\n",
       "                        <td id=\"T_fe92acd6_39fd_11ee_bdbb_96000040dfb6row3_col10\" class=\"data row3 col10\" >6.02%</td>\n",
       "                        <td id=\"T_fe92acd6_39fd_11ee_bdbb_96000040dfb6row3_col11\" class=\"data row3 col11\" >5.20%</td>\n",
       "                        <td id=\"T_fe92acd6_39fd_11ee_bdbb_96000040dfb6row3_col12\" class=\"data row3 col12\" >4.57%</td>\n",
       "                        <td id=\"T_fe92acd6_39fd_11ee_bdbb_96000040dfb6row3_col13\" class=\"data row3 col13\" >5.39%</td>\n",
       "                        <td id=\"T_fe92acd6_39fd_11ee_bdbb_96000040dfb6row3_col14\" class=\"data row3 col14\" >4.51%</td>\n",
       "                        <td id=\"T_fe92acd6_39fd_11ee_bdbb_96000040dfb6row3_col15\" class=\"data row3 col15\" >5.14%</td>\n",
       "                        <td id=\"T_fe92acd6_39fd_11ee_bdbb_96000040dfb6row3_col16\" class=\"data row3 col16\" >4.45%</td>\n",
       "                        <td id=\"T_fe92acd6_39fd_11ee_bdbb_96000040dfb6row3_col17\" class=\"data row3 col17\" >4.76%</td>\n",
       "                        <td id=\"T_fe92acd6_39fd_11ee_bdbb_96000040dfb6row3_col18\" class=\"data row3 col18\" >2.51%</td>\n",
       "                        <td id=\"T_fe92acd6_39fd_11ee_bdbb_96000040dfb6row3_col19\" class=\"data row3 col19\" ></td>\n",
       "                        <td id=\"T_fe92acd6_39fd_11ee_bdbb_96000040dfb6row3_col20\" class=\"data row3 col20\" ></td>\n",
       "                        <td id=\"T_fe92acd6_39fd_11ee_bdbb_96000040dfb6row3_col21\" class=\"data row3 col21\" ></td>\n",
       "            </tr>\n",
       "            <tr>\n",
       "                        <th id=\"T_fe92acd6_39fd_11ee_bdbb_96000040dfb6level0_row4\" class=\"row_heading level0 row4\" >2020-09-06 00:00:00</th>\n",
       "                        <td id=\"T_fe92acd6_39fd_11ee_bdbb_96000040dfb6row4_col0\" class=\"data row4 col0\" >100.00%</td>\n",
       "                        <td id=\"T_fe92acd6_39fd_11ee_bdbb_96000040dfb6row4_col1\" class=\"data row4 col1\" >3.13%</td>\n",
       "                        <td id=\"T_fe92acd6_39fd_11ee_bdbb_96000040dfb6row4_col2\" class=\"data row4 col2\" >4.32%</td>\n",
       "                        <td id=\"T_fe92acd6_39fd_11ee_bdbb_96000040dfb6row4_col3\" class=\"data row4 col3\" >5.44%</td>\n",
       "                        <td id=\"T_fe92acd6_39fd_11ee_bdbb_96000040dfb6row4_col4\" class=\"data row4 col4\" >5.63%</td>\n",
       "                        <td id=\"T_fe92acd6_39fd_11ee_bdbb_96000040dfb6row4_col5\" class=\"data row4 col5\" >5.88%</td>\n",
       "                        <td id=\"T_fe92acd6_39fd_11ee_bdbb_96000040dfb6row4_col6\" class=\"data row4 col6\" >6.82%</td>\n",
       "                        <td id=\"T_fe92acd6_39fd_11ee_bdbb_96000040dfb6row4_col7\" class=\"data row4 col7\" >6.07%</td>\n",
       "                        <td id=\"T_fe92acd6_39fd_11ee_bdbb_96000040dfb6row4_col8\" class=\"data row4 col8\" >5.82%</td>\n",
       "                        <td id=\"T_fe92acd6_39fd_11ee_bdbb_96000040dfb6row4_col9\" class=\"data row4 col9\" >5.50%</td>\n",
       "                        <td id=\"T_fe92acd6_39fd_11ee_bdbb_96000040dfb6row4_col10\" class=\"data row4 col10\" >4.88%</td>\n",
       "                        <td id=\"T_fe92acd6_39fd_11ee_bdbb_96000040dfb6row4_col11\" class=\"data row4 col11\" >4.75%</td>\n",
       "                        <td id=\"T_fe92acd6_39fd_11ee_bdbb_96000040dfb6row4_col12\" class=\"data row4 col12\" >5.38%</td>\n",
       "                        <td id=\"T_fe92acd6_39fd_11ee_bdbb_96000040dfb6row4_col13\" class=\"data row4 col13\" >5.19%</td>\n",
       "                        <td id=\"T_fe92acd6_39fd_11ee_bdbb_96000040dfb6row4_col14\" class=\"data row4 col14\" >5.50%</td>\n",
       "                        <td id=\"T_fe92acd6_39fd_11ee_bdbb_96000040dfb6row4_col15\" class=\"data row4 col15\" >4.57%</td>\n",
       "                        <td id=\"T_fe92acd6_39fd_11ee_bdbb_96000040dfb6row4_col16\" class=\"data row4 col16\" >4.82%</td>\n",
       "                        <td id=\"T_fe92acd6_39fd_11ee_bdbb_96000040dfb6row4_col17\" class=\"data row4 col17\" >2.56%</td>\n",
       "                        <td id=\"T_fe92acd6_39fd_11ee_bdbb_96000040dfb6row4_col18\" class=\"data row4 col18\" ></td>\n",
       "                        <td id=\"T_fe92acd6_39fd_11ee_bdbb_96000040dfb6row4_col19\" class=\"data row4 col19\" ></td>\n",
       "                        <td id=\"T_fe92acd6_39fd_11ee_bdbb_96000040dfb6row4_col20\" class=\"data row4 col20\" ></td>\n",
       "                        <td id=\"T_fe92acd6_39fd_11ee_bdbb_96000040dfb6row4_col21\" class=\"data row4 col21\" ></td>\n",
       "            </tr>\n",
       "            <tr>\n",
       "                        <th id=\"T_fe92acd6_39fd_11ee_bdbb_96000040dfb6level0_row5\" class=\"row_heading level0 row5\" >2020-09-07 00:00:00</th>\n",
       "                        <td id=\"T_fe92acd6_39fd_11ee_bdbb_96000040dfb6row5_col0\" class=\"data row5 col0\" >100.00%</td>\n",
       "                        <td id=\"T_fe92acd6_39fd_11ee_bdbb_96000040dfb6row5_col1\" class=\"data row5 col1\" >2.94%</td>\n",
       "                        <td id=\"T_fe92acd6_39fd_11ee_bdbb_96000040dfb6row5_col2\" class=\"data row5 col2\" >4.25%</td>\n",
       "                        <td id=\"T_fe92acd6_39fd_11ee_bdbb_96000040dfb6row5_col3\" class=\"data row5 col3\" >5.37%</td>\n",
       "                        <td id=\"T_fe92acd6_39fd_11ee_bdbb_96000040dfb6row5_col4\" class=\"data row5 col4\" >5.06%</td>\n",
       "                        <td id=\"T_fe92acd6_39fd_11ee_bdbb_96000040dfb6row5_col5\" class=\"data row5 col5\" >6.37%</td>\n",
       "                        <td id=\"T_fe92acd6_39fd_11ee_bdbb_96000040dfb6row5_col6\" class=\"data row5 col6\" >7.31%</td>\n",
       "                        <td id=\"T_fe92acd6_39fd_11ee_bdbb_96000040dfb6row5_col7\" class=\"data row5 col7\" >5.25%</td>\n",
       "                        <td id=\"T_fe92acd6_39fd_11ee_bdbb_96000040dfb6row5_col8\" class=\"data row5 col8\" >4.12%</td>\n",
       "                        <td id=\"T_fe92acd6_39fd_11ee_bdbb_96000040dfb6row5_col9\" class=\"data row5 col9\" >5.62%</td>\n",
       "                        <td id=\"T_fe92acd6_39fd_11ee_bdbb_96000040dfb6row5_col10\" class=\"data row5 col10\" >6.00%</td>\n",
       "                        <td id=\"T_fe92acd6_39fd_11ee_bdbb_96000040dfb6row5_col11\" class=\"data row5 col11\" >5.68%</td>\n",
       "                        <td id=\"T_fe92acd6_39fd_11ee_bdbb_96000040dfb6row5_col12\" class=\"data row5 col12\" >4.56%</td>\n",
       "                        <td id=\"T_fe92acd6_39fd_11ee_bdbb_96000040dfb6row5_col13\" class=\"data row5 col13\" >5.06%</td>\n",
       "                        <td id=\"T_fe92acd6_39fd_11ee_bdbb_96000040dfb6row5_col14\" class=\"data row5 col14\" >4.25%</td>\n",
       "                        <td id=\"T_fe92acd6_39fd_11ee_bdbb_96000040dfb6row5_col15\" class=\"data row5 col15\" >5.06%</td>\n",
       "                        <td id=\"T_fe92acd6_39fd_11ee_bdbb_96000040dfb6row5_col16\" class=\"data row5 col16\" >3.37%</td>\n",
       "                        <td id=\"T_fe92acd6_39fd_11ee_bdbb_96000040dfb6row5_col17\" class=\"data row5 col17\" ></td>\n",
       "                        <td id=\"T_fe92acd6_39fd_11ee_bdbb_96000040dfb6row5_col18\" class=\"data row5 col18\" ></td>\n",
       "                        <td id=\"T_fe92acd6_39fd_11ee_bdbb_96000040dfb6row5_col19\" class=\"data row5 col19\" ></td>\n",
       "                        <td id=\"T_fe92acd6_39fd_11ee_bdbb_96000040dfb6row5_col20\" class=\"data row5 col20\" ></td>\n",
       "                        <td id=\"T_fe92acd6_39fd_11ee_bdbb_96000040dfb6row5_col21\" class=\"data row5 col21\" ></td>\n",
       "            </tr>\n",
       "            <tr>\n",
       "                        <th id=\"T_fe92acd6_39fd_11ee_bdbb_96000040dfb6level0_row6\" class=\"row_heading level0 row6\" >2020-09-08 00:00:00</th>\n",
       "                        <td id=\"T_fe92acd6_39fd_11ee_bdbb_96000040dfb6row6_col0\" class=\"data row6 col0\" >100.00%</td>\n",
       "                        <td id=\"T_fe92acd6_39fd_11ee_bdbb_96000040dfb6row6_col1\" class=\"data row6 col1\" >1.75%</td>\n",
       "                        <td id=\"T_fe92acd6_39fd_11ee_bdbb_96000040dfb6row6_col2\" class=\"data row6 col2\" >3.93%</td>\n",
       "                        <td id=\"T_fe92acd6_39fd_11ee_bdbb_96000040dfb6row6_col3\" class=\"data row6 col3\" >3.93%</td>\n",
       "                        <td id=\"T_fe92acd6_39fd_11ee_bdbb_96000040dfb6row6_col4\" class=\"data row6 col4\" >4.86%</td>\n",
       "                        <td id=\"T_fe92acd6_39fd_11ee_bdbb_96000040dfb6row6_col5\" class=\"data row6 col5\" >7.61%</td>\n",
       "                        <td id=\"T_fe92acd6_39fd_11ee_bdbb_96000040dfb6row6_col6\" class=\"data row6 col6\" >7.54%</td>\n",
       "                        <td id=\"T_fe92acd6_39fd_11ee_bdbb_96000040dfb6row6_col7\" class=\"data row6 col7\" >6.61%</td>\n",
       "                        <td id=\"T_fe92acd6_39fd_11ee_bdbb_96000040dfb6row6_col8\" class=\"data row6 col8\" >5.17%</td>\n",
       "                        <td id=\"T_fe92acd6_39fd_11ee_bdbb_96000040dfb6row6_col9\" class=\"data row6 col9\" >5.17%</td>\n",
       "                        <td id=\"T_fe92acd6_39fd_11ee_bdbb_96000040dfb6row6_col10\" class=\"data row6 col10\" >6.55%</td>\n",
       "                        <td id=\"T_fe92acd6_39fd_11ee_bdbb_96000040dfb6row6_col11\" class=\"data row6 col11\" >5.36%</td>\n",
       "                        <td id=\"T_fe92acd6_39fd_11ee_bdbb_96000040dfb6row6_col12\" class=\"data row6 col12\" >5.92%</td>\n",
       "                        <td id=\"T_fe92acd6_39fd_11ee_bdbb_96000040dfb6row6_col13\" class=\"data row6 col13\" >5.17%</td>\n",
       "                        <td id=\"T_fe92acd6_39fd_11ee_bdbb_96000040dfb6row6_col14\" class=\"data row6 col14\" >4.74%</td>\n",
       "                        <td id=\"T_fe92acd6_39fd_11ee_bdbb_96000040dfb6row6_col15\" class=\"data row6 col15\" >3.05%</td>\n",
       "                        <td id=\"T_fe92acd6_39fd_11ee_bdbb_96000040dfb6row6_col16\" class=\"data row6 col16\" ></td>\n",
       "                        <td id=\"T_fe92acd6_39fd_11ee_bdbb_96000040dfb6row6_col17\" class=\"data row6 col17\" ></td>\n",
       "                        <td id=\"T_fe92acd6_39fd_11ee_bdbb_96000040dfb6row6_col18\" class=\"data row6 col18\" ></td>\n",
       "                        <td id=\"T_fe92acd6_39fd_11ee_bdbb_96000040dfb6row6_col19\" class=\"data row6 col19\" ></td>\n",
       "                        <td id=\"T_fe92acd6_39fd_11ee_bdbb_96000040dfb6row6_col20\" class=\"data row6 col20\" ></td>\n",
       "                        <td id=\"T_fe92acd6_39fd_11ee_bdbb_96000040dfb6row6_col21\" class=\"data row6 col21\" ></td>\n",
       "            </tr>\n",
       "            <tr>\n",
       "                        <th id=\"T_fe92acd6_39fd_11ee_bdbb_96000040dfb6level0_row7\" class=\"row_heading level0 row7\" >2020-09-09 00:00:00</th>\n",
       "                        <td id=\"T_fe92acd6_39fd_11ee_bdbb_96000040dfb6row7_col0\" class=\"data row7 col0\" >100.00%</td>\n",
       "                        <td id=\"T_fe92acd6_39fd_11ee_bdbb_96000040dfb6row7_col1\" class=\"data row7 col1\" >1.74%</td>\n",
       "                        <td id=\"T_fe92acd6_39fd_11ee_bdbb_96000040dfb6row7_col2\" class=\"data row7 col2\" >3.24%</td>\n",
       "                        <td id=\"T_fe92acd6_39fd_11ee_bdbb_96000040dfb6row7_col3\" class=\"data row7 col3\" >4.67%</td>\n",
       "                        <td id=\"T_fe92acd6_39fd_11ee_bdbb_96000040dfb6row7_col4\" class=\"data row7 col4\" >5.72%</td>\n",
       "                        <td id=\"T_fe92acd6_39fd_11ee_bdbb_96000040dfb6row7_col5\" class=\"data row7 col5\" >6.66%</td>\n",
       "                        <td id=\"T_fe92acd6_39fd_11ee_bdbb_96000040dfb6row7_col6\" class=\"data row7 col6\" >5.72%</td>\n",
       "                        <td id=\"T_fe92acd6_39fd_11ee_bdbb_96000040dfb6row7_col7\" class=\"data row7 col7\" >5.91%</td>\n",
       "                        <td id=\"T_fe92acd6_39fd_11ee_bdbb_96000040dfb6row7_col8\" class=\"data row7 col8\" >4.36%</td>\n",
       "                        <td id=\"T_fe92acd6_39fd_11ee_bdbb_96000040dfb6row7_col9\" class=\"data row7 col9\" >5.04%</td>\n",
       "                        <td id=\"T_fe92acd6_39fd_11ee_bdbb_96000040dfb6row7_col10\" class=\"data row7 col10\" >3.73%</td>\n",
       "                        <td id=\"T_fe92acd6_39fd_11ee_bdbb_96000040dfb6row7_col11\" class=\"data row7 col11\" >5.04%</td>\n",
       "                        <td id=\"T_fe92acd6_39fd_11ee_bdbb_96000040dfb6row7_col12\" class=\"data row7 col12\" >4.79%</td>\n",
       "                        <td id=\"T_fe92acd6_39fd_11ee_bdbb_96000040dfb6row7_col13\" class=\"data row7 col13\" >4.85%</td>\n",
       "                        <td id=\"T_fe92acd6_39fd_11ee_bdbb_96000040dfb6row7_col14\" class=\"data row7 col14\" >2.43%</td>\n",
       "                        <td id=\"T_fe92acd6_39fd_11ee_bdbb_96000040dfb6row7_col15\" class=\"data row7 col15\" ></td>\n",
       "                        <td id=\"T_fe92acd6_39fd_11ee_bdbb_96000040dfb6row7_col16\" class=\"data row7 col16\" ></td>\n",
       "                        <td id=\"T_fe92acd6_39fd_11ee_bdbb_96000040dfb6row7_col17\" class=\"data row7 col17\" ></td>\n",
       "                        <td id=\"T_fe92acd6_39fd_11ee_bdbb_96000040dfb6row7_col18\" class=\"data row7 col18\" ></td>\n",
       "                        <td id=\"T_fe92acd6_39fd_11ee_bdbb_96000040dfb6row7_col19\" class=\"data row7 col19\" ></td>\n",
       "                        <td id=\"T_fe92acd6_39fd_11ee_bdbb_96000040dfb6row7_col20\" class=\"data row7 col20\" ></td>\n",
       "                        <td id=\"T_fe92acd6_39fd_11ee_bdbb_96000040dfb6row7_col21\" class=\"data row7 col21\" ></td>\n",
       "            </tr>\n",
       "            <tr>\n",
       "                        <th id=\"T_fe92acd6_39fd_11ee_bdbb_96000040dfb6level0_row8\" class=\"row_heading level0 row8\" >2020-09-10 00:00:00</th>\n",
       "                        <td id=\"T_fe92acd6_39fd_11ee_bdbb_96000040dfb6row8_col0\" class=\"data row8 col0\" >100.00%</td>\n",
       "                        <td id=\"T_fe92acd6_39fd_11ee_bdbb_96000040dfb6row8_col1\" class=\"data row8 col1\" >2.05%</td>\n",
       "                        <td id=\"T_fe92acd6_39fd_11ee_bdbb_96000040dfb6row8_col2\" class=\"data row8 col2\" >4.29%</td>\n",
       "                        <td id=\"T_fe92acd6_39fd_11ee_bdbb_96000040dfb6row8_col3\" class=\"data row8 col3\" >4.79%</td>\n",
       "                        <td id=\"T_fe92acd6_39fd_11ee_bdbb_96000040dfb6row8_col4\" class=\"data row8 col4\" >4.23%</td>\n",
       "                        <td id=\"T_fe92acd6_39fd_11ee_bdbb_96000040dfb6row8_col5\" class=\"data row8 col5\" >6.77%</td>\n",
       "                        <td id=\"T_fe92acd6_39fd_11ee_bdbb_96000040dfb6row8_col6\" class=\"data row8 col6\" >6.28%</td>\n",
       "                        <td id=\"T_fe92acd6_39fd_11ee_bdbb_96000040dfb6row8_col7\" class=\"data row8 col7\" >7.09%</td>\n",
       "                        <td id=\"T_fe92acd6_39fd_11ee_bdbb_96000040dfb6row8_col8\" class=\"data row8 col8\" >4.85%</td>\n",
       "                        <td id=\"T_fe92acd6_39fd_11ee_bdbb_96000040dfb6row8_col9\" class=\"data row8 col9\" >4.54%</td>\n",
       "                        <td id=\"T_fe92acd6_39fd_11ee_bdbb_96000040dfb6row8_col10\" class=\"data row8 col10\" >5.66%</td>\n",
       "                        <td id=\"T_fe92acd6_39fd_11ee_bdbb_96000040dfb6row8_col11\" class=\"data row8 col11\" >4.72%</td>\n",
       "                        <td id=\"T_fe92acd6_39fd_11ee_bdbb_96000040dfb6row8_col12\" class=\"data row8 col12\" >5.22%</td>\n",
       "                        <td id=\"T_fe92acd6_39fd_11ee_bdbb_96000040dfb6row8_col13\" class=\"data row8 col13\" >3.60%</td>\n",
       "                        <td id=\"T_fe92acd6_39fd_11ee_bdbb_96000040dfb6row8_col14\" class=\"data row8 col14\" ></td>\n",
       "                        <td id=\"T_fe92acd6_39fd_11ee_bdbb_96000040dfb6row8_col15\" class=\"data row8 col15\" ></td>\n",
       "                        <td id=\"T_fe92acd6_39fd_11ee_bdbb_96000040dfb6row8_col16\" class=\"data row8 col16\" ></td>\n",
       "                        <td id=\"T_fe92acd6_39fd_11ee_bdbb_96000040dfb6row8_col17\" class=\"data row8 col17\" ></td>\n",
       "                        <td id=\"T_fe92acd6_39fd_11ee_bdbb_96000040dfb6row8_col18\" class=\"data row8 col18\" ></td>\n",
       "                        <td id=\"T_fe92acd6_39fd_11ee_bdbb_96000040dfb6row8_col19\" class=\"data row8 col19\" ></td>\n",
       "                        <td id=\"T_fe92acd6_39fd_11ee_bdbb_96000040dfb6row8_col20\" class=\"data row8 col20\" ></td>\n",
       "                        <td id=\"T_fe92acd6_39fd_11ee_bdbb_96000040dfb6row8_col21\" class=\"data row8 col21\" ></td>\n",
       "            </tr>\n",
       "            <tr>\n",
       "                        <th id=\"T_fe92acd6_39fd_11ee_bdbb_96000040dfb6level0_row9\" class=\"row_heading level0 row9\" >2020-09-11 00:00:00</th>\n",
       "                        <td id=\"T_fe92acd6_39fd_11ee_bdbb_96000040dfb6row9_col0\" class=\"data row9 col0\" >100.00%</td>\n",
       "                        <td id=\"T_fe92acd6_39fd_11ee_bdbb_96000040dfb6row9_col1\" class=\"data row9 col1\" >1.30%</td>\n",
       "                        <td id=\"T_fe92acd6_39fd_11ee_bdbb_96000040dfb6row9_col2\" class=\"data row9 col2\" >4.03%</td>\n",
       "                        <td id=\"T_fe92acd6_39fd_11ee_bdbb_96000040dfb6row9_col3\" class=\"data row9 col3\" >4.53%</td>\n",
       "                        <td id=\"T_fe92acd6_39fd_11ee_bdbb_96000040dfb6row9_col4\" class=\"data row9 col4\" >5.65%</td>\n",
       "                        <td id=\"T_fe92acd6_39fd_11ee_bdbb_96000040dfb6row9_col5\" class=\"data row9 col5\" >5.71%</td>\n",
       "                        <td id=\"T_fe92acd6_39fd_11ee_bdbb_96000040dfb6row9_col6\" class=\"data row9 col6\" >6.70%</td>\n",
       "                        <td id=\"T_fe92acd6_39fd_11ee_bdbb_96000040dfb6row9_col7\" class=\"data row9 col7\" >6.33%</td>\n",
       "                        <td id=\"T_fe92acd6_39fd_11ee_bdbb_96000040dfb6row9_col8\" class=\"data row9 col8\" >4.40%</td>\n",
       "                        <td id=\"T_fe92acd6_39fd_11ee_bdbb_96000040dfb6row9_col9\" class=\"data row9 col9\" >4.65%</td>\n",
       "                        <td id=\"T_fe92acd6_39fd_11ee_bdbb_96000040dfb6row9_col10\" class=\"data row9 col10\" >5.40%</td>\n",
       "                        <td id=\"T_fe92acd6_39fd_11ee_bdbb_96000040dfb6row9_col11\" class=\"data row9 col11\" >5.33%</td>\n",
       "                        <td id=\"T_fe92acd6_39fd_11ee_bdbb_96000040dfb6row9_col12\" class=\"data row9 col12\" >3.29%</td>\n",
       "                        <td id=\"T_fe92acd6_39fd_11ee_bdbb_96000040dfb6row9_col13\" class=\"data row9 col13\" ></td>\n",
       "                        <td id=\"T_fe92acd6_39fd_11ee_bdbb_96000040dfb6row9_col14\" class=\"data row9 col14\" ></td>\n",
       "                        <td id=\"T_fe92acd6_39fd_11ee_bdbb_96000040dfb6row9_col15\" class=\"data row9 col15\" ></td>\n",
       "                        <td id=\"T_fe92acd6_39fd_11ee_bdbb_96000040dfb6row9_col16\" class=\"data row9 col16\" ></td>\n",
       "                        <td id=\"T_fe92acd6_39fd_11ee_bdbb_96000040dfb6row9_col17\" class=\"data row9 col17\" ></td>\n",
       "                        <td id=\"T_fe92acd6_39fd_11ee_bdbb_96000040dfb6row9_col18\" class=\"data row9 col18\" ></td>\n",
       "                        <td id=\"T_fe92acd6_39fd_11ee_bdbb_96000040dfb6row9_col19\" class=\"data row9 col19\" ></td>\n",
       "                        <td id=\"T_fe92acd6_39fd_11ee_bdbb_96000040dfb6row9_col20\" class=\"data row9 col20\" ></td>\n",
       "                        <td id=\"T_fe92acd6_39fd_11ee_bdbb_96000040dfb6row9_col21\" class=\"data row9 col21\" ></td>\n",
       "            </tr>\n",
       "            <tr>\n",
       "                        <th id=\"T_fe92acd6_39fd_11ee_bdbb_96000040dfb6level0_row10\" class=\"row_heading level0 row10\" >2020-09-12 00:00:00</th>\n",
       "                        <td id=\"T_fe92acd6_39fd_11ee_bdbb_96000040dfb6row10_col0\" class=\"data row10 col0\" >100.00%</td>\n",
       "                        <td id=\"T_fe92acd6_39fd_11ee_bdbb_96000040dfb6row10_col1\" class=\"data row10 col1\" >1.92%</td>\n",
       "                        <td id=\"T_fe92acd6_39fd_11ee_bdbb_96000040dfb6row10_col2\" class=\"data row10 col2\" >3.84%</td>\n",
       "                        <td id=\"T_fe92acd6_39fd_11ee_bdbb_96000040dfb6row10_col3\" class=\"data row10 col3\" >4.71%</td>\n",
       "                        <td id=\"T_fe92acd6_39fd_11ee_bdbb_96000040dfb6row10_col4\" class=\"data row10 col4\" >4.65%</td>\n",
       "                        <td id=\"T_fe92acd6_39fd_11ee_bdbb_96000040dfb6row10_col5\" class=\"data row10 col5\" >6.07%</td>\n",
       "                        <td id=\"T_fe92acd6_39fd_11ee_bdbb_96000040dfb6row10_col6\" class=\"data row10 col6\" >6.57%</td>\n",
       "                        <td id=\"T_fe92acd6_39fd_11ee_bdbb_96000040dfb6row10_col7\" class=\"data row10 col7\" >5.76%</td>\n",
       "                        <td id=\"T_fe92acd6_39fd_11ee_bdbb_96000040dfb6row10_col8\" class=\"data row10 col8\" >5.27%</td>\n",
       "                        <td id=\"T_fe92acd6_39fd_11ee_bdbb_96000040dfb6row10_col9\" class=\"data row10 col9\" >5.14%</td>\n",
       "                        <td id=\"T_fe92acd6_39fd_11ee_bdbb_96000040dfb6row10_col10\" class=\"data row10 col10\" >5.70%</td>\n",
       "                        <td id=\"T_fe92acd6_39fd_11ee_bdbb_96000040dfb6row10_col11\" class=\"data row10 col11\" >2.54%</td>\n",
       "                        <td id=\"T_fe92acd6_39fd_11ee_bdbb_96000040dfb6row10_col12\" class=\"data row10 col12\" ></td>\n",
       "                        <td id=\"T_fe92acd6_39fd_11ee_bdbb_96000040dfb6row10_col13\" class=\"data row10 col13\" ></td>\n",
       "                        <td id=\"T_fe92acd6_39fd_11ee_bdbb_96000040dfb6row10_col14\" class=\"data row10 col14\" ></td>\n",
       "                        <td id=\"T_fe92acd6_39fd_11ee_bdbb_96000040dfb6row10_col15\" class=\"data row10 col15\" ></td>\n",
       "                        <td id=\"T_fe92acd6_39fd_11ee_bdbb_96000040dfb6row10_col16\" class=\"data row10 col16\" ></td>\n",
       "                        <td id=\"T_fe92acd6_39fd_11ee_bdbb_96000040dfb6row10_col17\" class=\"data row10 col17\" ></td>\n",
       "                        <td id=\"T_fe92acd6_39fd_11ee_bdbb_96000040dfb6row10_col18\" class=\"data row10 col18\" ></td>\n",
       "                        <td id=\"T_fe92acd6_39fd_11ee_bdbb_96000040dfb6row10_col19\" class=\"data row10 col19\" ></td>\n",
       "                        <td id=\"T_fe92acd6_39fd_11ee_bdbb_96000040dfb6row10_col20\" class=\"data row10 col20\" ></td>\n",
       "                        <td id=\"T_fe92acd6_39fd_11ee_bdbb_96000040dfb6row10_col21\" class=\"data row10 col21\" ></td>\n",
       "            </tr>\n",
       "            <tr>\n",
       "                        <th id=\"T_fe92acd6_39fd_11ee_bdbb_96000040dfb6level0_row11\" class=\"row_heading level0 row11\" >2020-09-13 00:00:00</th>\n",
       "                        <td id=\"T_fe92acd6_39fd_11ee_bdbb_96000040dfb6row11_col0\" class=\"data row11 col0\" >100.00%</td>\n",
       "                        <td id=\"T_fe92acd6_39fd_11ee_bdbb_96000040dfb6row11_col1\" class=\"data row11 col1\" >1.98%</td>\n",
       "                        <td id=\"T_fe92acd6_39fd_11ee_bdbb_96000040dfb6row11_col2\" class=\"data row11 col2\" >4.08%</td>\n",
       "                        <td id=\"T_fe92acd6_39fd_11ee_bdbb_96000040dfb6row11_col3\" class=\"data row11 col3\" >4.26%</td>\n",
       "                        <td id=\"T_fe92acd6_39fd_11ee_bdbb_96000040dfb6row11_col4\" class=\"data row11 col4\" >5.13%</td>\n",
       "                        <td id=\"T_fe92acd6_39fd_11ee_bdbb_96000040dfb6row11_col5\" class=\"data row11 col5\" >6.55%</td>\n",
       "                        <td id=\"T_fe92acd6_39fd_11ee_bdbb_96000040dfb6row11_col6\" class=\"data row11 col6\" >6.49%</td>\n",
       "                        <td id=\"T_fe92acd6_39fd_11ee_bdbb_96000040dfb6row11_col7\" class=\"data row11 col7\" >4.94%</td>\n",
       "                        <td id=\"T_fe92acd6_39fd_11ee_bdbb_96000040dfb6row11_col8\" class=\"data row11 col8\" >4.70%</td>\n",
       "                        <td id=\"T_fe92acd6_39fd_11ee_bdbb_96000040dfb6row11_col9\" class=\"data row11 col9\" >4.94%</td>\n",
       "                        <td id=\"T_fe92acd6_39fd_11ee_bdbb_96000040dfb6row11_col10\" class=\"data row11 col10\" >3.58%</td>\n",
       "                        <td id=\"T_fe92acd6_39fd_11ee_bdbb_96000040dfb6row11_col11\" class=\"data row11 col11\" ></td>\n",
       "                        <td id=\"T_fe92acd6_39fd_11ee_bdbb_96000040dfb6row11_col12\" class=\"data row11 col12\" ></td>\n",
       "                        <td id=\"T_fe92acd6_39fd_11ee_bdbb_96000040dfb6row11_col13\" class=\"data row11 col13\" ></td>\n",
       "                        <td id=\"T_fe92acd6_39fd_11ee_bdbb_96000040dfb6row11_col14\" class=\"data row11 col14\" ></td>\n",
       "                        <td id=\"T_fe92acd6_39fd_11ee_bdbb_96000040dfb6row11_col15\" class=\"data row11 col15\" ></td>\n",
       "                        <td id=\"T_fe92acd6_39fd_11ee_bdbb_96000040dfb6row11_col16\" class=\"data row11 col16\" ></td>\n",
       "                        <td id=\"T_fe92acd6_39fd_11ee_bdbb_96000040dfb6row11_col17\" class=\"data row11 col17\" ></td>\n",
       "                        <td id=\"T_fe92acd6_39fd_11ee_bdbb_96000040dfb6row11_col18\" class=\"data row11 col18\" ></td>\n",
       "                        <td id=\"T_fe92acd6_39fd_11ee_bdbb_96000040dfb6row11_col19\" class=\"data row11 col19\" ></td>\n",
       "                        <td id=\"T_fe92acd6_39fd_11ee_bdbb_96000040dfb6row11_col20\" class=\"data row11 col20\" ></td>\n",
       "                        <td id=\"T_fe92acd6_39fd_11ee_bdbb_96000040dfb6row11_col21\" class=\"data row11 col21\" ></td>\n",
       "            </tr>\n",
       "            <tr>\n",
       "                        <th id=\"T_fe92acd6_39fd_11ee_bdbb_96000040dfb6level0_row12\" class=\"row_heading level0 row12\" >2020-09-14 00:00:00</th>\n",
       "                        <td id=\"T_fe92acd6_39fd_11ee_bdbb_96000040dfb6row12_col0\" class=\"data row12 col0\" >100.00%</td>\n",
       "                        <td id=\"T_fe92acd6_39fd_11ee_bdbb_96000040dfb6row12_col1\" class=\"data row12 col1\" >2.22%</td>\n",
       "                        <td id=\"T_fe92acd6_39fd_11ee_bdbb_96000040dfb6row12_col2\" class=\"data row12 col2\" >3.83%</td>\n",
       "                        <td id=\"T_fe92acd6_39fd_11ee_bdbb_96000040dfb6row12_col3\" class=\"data row12 col3\" >4.51%</td>\n",
       "                        <td id=\"T_fe92acd6_39fd_11ee_bdbb_96000040dfb6row12_col4\" class=\"data row12 col4\" >5.31%</td>\n",
       "                        <td id=\"T_fe92acd6_39fd_11ee_bdbb_96000040dfb6row12_col5\" class=\"data row12 col5\" >6.49%</td>\n",
       "                        <td id=\"T_fe92acd6_39fd_11ee_bdbb_96000040dfb6row12_col6\" class=\"data row12 col6\" >6.98%</td>\n",
       "                        <td id=\"T_fe92acd6_39fd_11ee_bdbb_96000040dfb6row12_col7\" class=\"data row12 col7\" >6.30%</td>\n",
       "                        <td id=\"T_fe92acd6_39fd_11ee_bdbb_96000040dfb6row12_col8\" class=\"data row12 col8\" >4.45%</td>\n",
       "                        <td id=\"T_fe92acd6_39fd_11ee_bdbb_96000040dfb6row12_col9\" class=\"data row12 col9\" >2.90%</td>\n",
       "                        <td id=\"T_fe92acd6_39fd_11ee_bdbb_96000040dfb6row12_col10\" class=\"data row12 col10\" ></td>\n",
       "                        <td id=\"T_fe92acd6_39fd_11ee_bdbb_96000040dfb6row12_col11\" class=\"data row12 col11\" ></td>\n",
       "                        <td id=\"T_fe92acd6_39fd_11ee_bdbb_96000040dfb6row12_col12\" class=\"data row12 col12\" ></td>\n",
       "                        <td id=\"T_fe92acd6_39fd_11ee_bdbb_96000040dfb6row12_col13\" class=\"data row12 col13\" ></td>\n",
       "                        <td id=\"T_fe92acd6_39fd_11ee_bdbb_96000040dfb6row12_col14\" class=\"data row12 col14\" ></td>\n",
       "                        <td id=\"T_fe92acd6_39fd_11ee_bdbb_96000040dfb6row12_col15\" class=\"data row12 col15\" ></td>\n",
       "                        <td id=\"T_fe92acd6_39fd_11ee_bdbb_96000040dfb6row12_col16\" class=\"data row12 col16\" ></td>\n",
       "                        <td id=\"T_fe92acd6_39fd_11ee_bdbb_96000040dfb6row12_col17\" class=\"data row12 col17\" ></td>\n",
       "                        <td id=\"T_fe92acd6_39fd_11ee_bdbb_96000040dfb6row12_col18\" class=\"data row12 col18\" ></td>\n",
       "                        <td id=\"T_fe92acd6_39fd_11ee_bdbb_96000040dfb6row12_col19\" class=\"data row12 col19\" ></td>\n",
       "                        <td id=\"T_fe92acd6_39fd_11ee_bdbb_96000040dfb6row12_col20\" class=\"data row12 col20\" ></td>\n",
       "                        <td id=\"T_fe92acd6_39fd_11ee_bdbb_96000040dfb6row12_col21\" class=\"data row12 col21\" ></td>\n",
       "            </tr>\n",
       "            <tr>\n",
       "                        <th id=\"T_fe92acd6_39fd_11ee_bdbb_96000040dfb6level0_row13\" class=\"row_heading level0 row13\" >2020-09-15 00:00:00</th>\n",
       "                        <td id=\"T_fe92acd6_39fd_11ee_bdbb_96000040dfb6row13_col0\" class=\"data row13 col0\" >100.00%</td>\n",
       "                        <td id=\"T_fe92acd6_39fd_11ee_bdbb_96000040dfb6row13_col1\" class=\"data row13 col1\" >2.22%</td>\n",
       "                        <td id=\"T_fe92acd6_39fd_11ee_bdbb_96000040dfb6row13_col2\" class=\"data row13 col2\" >4.07%</td>\n",
       "                        <td id=\"T_fe92acd6_39fd_11ee_bdbb_96000040dfb6row13_col3\" class=\"data row13 col3\" >4.56%</td>\n",
       "                        <td id=\"T_fe92acd6_39fd_11ee_bdbb_96000040dfb6row13_col4\" class=\"data row13 col4\" >6.04%</td>\n",
       "                        <td id=\"T_fe92acd6_39fd_11ee_bdbb_96000040dfb6row13_col5\" class=\"data row13 col5\" >5.61%</td>\n",
       "                        <td id=\"T_fe92acd6_39fd_11ee_bdbb_96000040dfb6row13_col6\" class=\"data row13 col6\" >6.90%</td>\n",
       "                        <td id=\"T_fe92acd6_39fd_11ee_bdbb_96000040dfb6row13_col7\" class=\"data row13 col7\" >5.67%</td>\n",
       "                        <td id=\"T_fe92acd6_39fd_11ee_bdbb_96000040dfb6row13_col8\" class=\"data row13 col8\" >2.46%</td>\n",
       "                        <td id=\"T_fe92acd6_39fd_11ee_bdbb_96000040dfb6row13_col9\" class=\"data row13 col9\" ></td>\n",
       "                        <td id=\"T_fe92acd6_39fd_11ee_bdbb_96000040dfb6row13_col10\" class=\"data row13 col10\" ></td>\n",
       "                        <td id=\"T_fe92acd6_39fd_11ee_bdbb_96000040dfb6row13_col11\" class=\"data row13 col11\" ></td>\n",
       "                        <td id=\"T_fe92acd6_39fd_11ee_bdbb_96000040dfb6row13_col12\" class=\"data row13 col12\" ></td>\n",
       "                        <td id=\"T_fe92acd6_39fd_11ee_bdbb_96000040dfb6row13_col13\" class=\"data row13 col13\" ></td>\n",
       "                        <td id=\"T_fe92acd6_39fd_11ee_bdbb_96000040dfb6row13_col14\" class=\"data row13 col14\" ></td>\n",
       "                        <td id=\"T_fe92acd6_39fd_11ee_bdbb_96000040dfb6row13_col15\" class=\"data row13 col15\" ></td>\n",
       "                        <td id=\"T_fe92acd6_39fd_11ee_bdbb_96000040dfb6row13_col16\" class=\"data row13 col16\" ></td>\n",
       "                        <td id=\"T_fe92acd6_39fd_11ee_bdbb_96000040dfb6row13_col17\" class=\"data row13 col17\" ></td>\n",
       "                        <td id=\"T_fe92acd6_39fd_11ee_bdbb_96000040dfb6row13_col18\" class=\"data row13 col18\" ></td>\n",
       "                        <td id=\"T_fe92acd6_39fd_11ee_bdbb_96000040dfb6row13_col19\" class=\"data row13 col19\" ></td>\n",
       "                        <td id=\"T_fe92acd6_39fd_11ee_bdbb_96000040dfb6row13_col20\" class=\"data row13 col20\" ></td>\n",
       "                        <td id=\"T_fe92acd6_39fd_11ee_bdbb_96000040dfb6row13_col21\" class=\"data row13 col21\" ></td>\n",
       "            </tr>\n",
       "            <tr>\n",
       "                        <th id=\"T_fe92acd6_39fd_11ee_bdbb_96000040dfb6level0_row14\" class=\"row_heading level0 row14\" >2020-09-16 00:00:00</th>\n",
       "                        <td id=\"T_fe92acd6_39fd_11ee_bdbb_96000040dfb6row14_col0\" class=\"data row14 col0\" >100.00%</td>\n",
       "                        <td id=\"T_fe92acd6_39fd_11ee_bdbb_96000040dfb6row14_col1\" class=\"data row14 col1\" >1.91%</td>\n",
       "                        <td id=\"T_fe92acd6_39fd_11ee_bdbb_96000040dfb6row14_col2\" class=\"data row14 col2\" >4.25%</td>\n",
       "                        <td id=\"T_fe92acd6_39fd_11ee_bdbb_96000040dfb6row14_col3\" class=\"data row14 col3\" >4.62%</td>\n",
       "                        <td id=\"T_fe92acd6_39fd_11ee_bdbb_96000040dfb6row14_col4\" class=\"data row14 col4\" >4.68%</td>\n",
       "                        <td id=\"T_fe92acd6_39fd_11ee_bdbb_96000040dfb6row14_col5\" class=\"data row14 col5\" >6.77%</td>\n",
       "                        <td id=\"T_fe92acd6_39fd_11ee_bdbb_96000040dfb6row14_col6\" class=\"data row14 col6\" >6.95%</td>\n",
       "                        <td id=\"T_fe92acd6_39fd_11ee_bdbb_96000040dfb6row14_col7\" class=\"data row14 col7\" >3.38%</td>\n",
       "                        <td id=\"T_fe92acd6_39fd_11ee_bdbb_96000040dfb6row14_col8\" class=\"data row14 col8\" ></td>\n",
       "                        <td id=\"T_fe92acd6_39fd_11ee_bdbb_96000040dfb6row14_col9\" class=\"data row14 col9\" ></td>\n",
       "                        <td id=\"T_fe92acd6_39fd_11ee_bdbb_96000040dfb6row14_col10\" class=\"data row14 col10\" ></td>\n",
       "                        <td id=\"T_fe92acd6_39fd_11ee_bdbb_96000040dfb6row14_col11\" class=\"data row14 col11\" ></td>\n",
       "                        <td id=\"T_fe92acd6_39fd_11ee_bdbb_96000040dfb6row14_col12\" class=\"data row14 col12\" ></td>\n",
       "                        <td id=\"T_fe92acd6_39fd_11ee_bdbb_96000040dfb6row14_col13\" class=\"data row14 col13\" ></td>\n",
       "                        <td id=\"T_fe92acd6_39fd_11ee_bdbb_96000040dfb6row14_col14\" class=\"data row14 col14\" ></td>\n",
       "                        <td id=\"T_fe92acd6_39fd_11ee_bdbb_96000040dfb6row14_col15\" class=\"data row14 col15\" ></td>\n",
       "                        <td id=\"T_fe92acd6_39fd_11ee_bdbb_96000040dfb6row14_col16\" class=\"data row14 col16\" ></td>\n",
       "                        <td id=\"T_fe92acd6_39fd_11ee_bdbb_96000040dfb6row14_col17\" class=\"data row14 col17\" ></td>\n",
       "                        <td id=\"T_fe92acd6_39fd_11ee_bdbb_96000040dfb6row14_col18\" class=\"data row14 col18\" ></td>\n",
       "                        <td id=\"T_fe92acd6_39fd_11ee_bdbb_96000040dfb6row14_col19\" class=\"data row14 col19\" ></td>\n",
       "                        <td id=\"T_fe92acd6_39fd_11ee_bdbb_96000040dfb6row14_col20\" class=\"data row14 col20\" ></td>\n",
       "                        <td id=\"T_fe92acd6_39fd_11ee_bdbb_96000040dfb6row14_col21\" class=\"data row14 col21\" ></td>\n",
       "            </tr>\n",
       "            <tr>\n",
       "                        <th id=\"T_fe92acd6_39fd_11ee_bdbb_96000040dfb6level0_row15\" class=\"row_heading level0 row15\" >2020-09-17 00:00:00</th>\n",
       "                        <td id=\"T_fe92acd6_39fd_11ee_bdbb_96000040dfb6row15_col0\" class=\"data row15 col0\" >100.00%</td>\n",
       "                        <td id=\"T_fe92acd6_39fd_11ee_bdbb_96000040dfb6row15_col1\" class=\"data row15 col1\" >1.66%</td>\n",
       "                        <td id=\"T_fe92acd6_39fd_11ee_bdbb_96000040dfb6row15_col2\" class=\"data row15 col2\" >4.30%</td>\n",
       "                        <td id=\"T_fe92acd6_39fd_11ee_bdbb_96000040dfb6row15_col3\" class=\"data row15 col3\" >4.55%</td>\n",
       "                        <td id=\"T_fe92acd6_39fd_11ee_bdbb_96000040dfb6row15_col4\" class=\"data row15 col4\" >5.47%</td>\n",
       "                        <td id=\"T_fe92acd6_39fd_11ee_bdbb_96000040dfb6row15_col5\" class=\"data row15 col5\" >6.27%</td>\n",
       "                        <td id=\"T_fe92acd6_39fd_11ee_bdbb_96000040dfb6row15_col6\" class=\"data row15 col6\" >4.24%</td>\n",
       "                        <td id=\"T_fe92acd6_39fd_11ee_bdbb_96000040dfb6row15_col7\" class=\"data row15 col7\" ></td>\n",
       "                        <td id=\"T_fe92acd6_39fd_11ee_bdbb_96000040dfb6row15_col8\" class=\"data row15 col8\" ></td>\n",
       "                        <td id=\"T_fe92acd6_39fd_11ee_bdbb_96000040dfb6row15_col9\" class=\"data row15 col9\" ></td>\n",
       "                        <td id=\"T_fe92acd6_39fd_11ee_bdbb_96000040dfb6row15_col10\" class=\"data row15 col10\" ></td>\n",
       "                        <td id=\"T_fe92acd6_39fd_11ee_bdbb_96000040dfb6row15_col11\" class=\"data row15 col11\" ></td>\n",
       "                        <td id=\"T_fe92acd6_39fd_11ee_bdbb_96000040dfb6row15_col12\" class=\"data row15 col12\" ></td>\n",
       "                        <td id=\"T_fe92acd6_39fd_11ee_bdbb_96000040dfb6row15_col13\" class=\"data row15 col13\" ></td>\n",
       "                        <td id=\"T_fe92acd6_39fd_11ee_bdbb_96000040dfb6row15_col14\" class=\"data row15 col14\" ></td>\n",
       "                        <td id=\"T_fe92acd6_39fd_11ee_bdbb_96000040dfb6row15_col15\" class=\"data row15 col15\" ></td>\n",
       "                        <td id=\"T_fe92acd6_39fd_11ee_bdbb_96000040dfb6row15_col16\" class=\"data row15 col16\" ></td>\n",
       "                        <td id=\"T_fe92acd6_39fd_11ee_bdbb_96000040dfb6row15_col17\" class=\"data row15 col17\" ></td>\n",
       "                        <td id=\"T_fe92acd6_39fd_11ee_bdbb_96000040dfb6row15_col18\" class=\"data row15 col18\" ></td>\n",
       "                        <td id=\"T_fe92acd6_39fd_11ee_bdbb_96000040dfb6row15_col19\" class=\"data row15 col19\" ></td>\n",
       "                        <td id=\"T_fe92acd6_39fd_11ee_bdbb_96000040dfb6row15_col20\" class=\"data row15 col20\" ></td>\n",
       "                        <td id=\"T_fe92acd6_39fd_11ee_bdbb_96000040dfb6row15_col21\" class=\"data row15 col21\" ></td>\n",
       "            </tr>\n",
       "            <tr>\n",
       "                        <th id=\"T_fe92acd6_39fd_11ee_bdbb_96000040dfb6level0_row16\" class=\"row_heading level0 row16\" >2020-09-18 00:00:00</th>\n",
       "                        <td id=\"T_fe92acd6_39fd_11ee_bdbb_96000040dfb6row16_col0\" class=\"data row16 col0\" >100.00%</td>\n",
       "                        <td id=\"T_fe92acd6_39fd_11ee_bdbb_96000040dfb6row16_col1\" class=\"data row16 col1\" >1.90%</td>\n",
       "                        <td id=\"T_fe92acd6_39fd_11ee_bdbb_96000040dfb6row16_col2\" class=\"data row16 col2\" >4.54%</td>\n",
       "                        <td id=\"T_fe92acd6_39fd_11ee_bdbb_96000040dfb6row16_col3\" class=\"data row16 col3\" >4.23%</td>\n",
       "                        <td id=\"T_fe92acd6_39fd_11ee_bdbb_96000040dfb6row16_col4\" class=\"data row16 col4\" >5.21%</td>\n",
       "                        <td id=\"T_fe92acd6_39fd_11ee_bdbb_96000040dfb6row16_col5\" class=\"data row16 col5\" >3.74%</td>\n",
       "                        <td id=\"T_fe92acd6_39fd_11ee_bdbb_96000040dfb6row16_col6\" class=\"data row16 col6\" ></td>\n",
       "                        <td id=\"T_fe92acd6_39fd_11ee_bdbb_96000040dfb6row16_col7\" class=\"data row16 col7\" ></td>\n",
       "                        <td id=\"T_fe92acd6_39fd_11ee_bdbb_96000040dfb6row16_col8\" class=\"data row16 col8\" ></td>\n",
       "                        <td id=\"T_fe92acd6_39fd_11ee_bdbb_96000040dfb6row16_col9\" class=\"data row16 col9\" ></td>\n",
       "                        <td id=\"T_fe92acd6_39fd_11ee_bdbb_96000040dfb6row16_col10\" class=\"data row16 col10\" ></td>\n",
       "                        <td id=\"T_fe92acd6_39fd_11ee_bdbb_96000040dfb6row16_col11\" class=\"data row16 col11\" ></td>\n",
       "                        <td id=\"T_fe92acd6_39fd_11ee_bdbb_96000040dfb6row16_col12\" class=\"data row16 col12\" ></td>\n",
       "                        <td id=\"T_fe92acd6_39fd_11ee_bdbb_96000040dfb6row16_col13\" class=\"data row16 col13\" ></td>\n",
       "                        <td id=\"T_fe92acd6_39fd_11ee_bdbb_96000040dfb6row16_col14\" class=\"data row16 col14\" ></td>\n",
       "                        <td id=\"T_fe92acd6_39fd_11ee_bdbb_96000040dfb6row16_col15\" class=\"data row16 col15\" ></td>\n",
       "                        <td id=\"T_fe92acd6_39fd_11ee_bdbb_96000040dfb6row16_col16\" class=\"data row16 col16\" ></td>\n",
       "                        <td id=\"T_fe92acd6_39fd_11ee_bdbb_96000040dfb6row16_col17\" class=\"data row16 col17\" ></td>\n",
       "                        <td id=\"T_fe92acd6_39fd_11ee_bdbb_96000040dfb6row16_col18\" class=\"data row16 col18\" ></td>\n",
       "                        <td id=\"T_fe92acd6_39fd_11ee_bdbb_96000040dfb6row16_col19\" class=\"data row16 col19\" ></td>\n",
       "                        <td id=\"T_fe92acd6_39fd_11ee_bdbb_96000040dfb6row16_col20\" class=\"data row16 col20\" ></td>\n",
       "                        <td id=\"T_fe92acd6_39fd_11ee_bdbb_96000040dfb6row16_col21\" class=\"data row16 col21\" ></td>\n",
       "            </tr>\n",
       "            <tr>\n",
       "                        <th id=\"T_fe92acd6_39fd_11ee_bdbb_96000040dfb6level0_row17\" class=\"row_heading level0 row17\" >2020-09-19 00:00:00</th>\n",
       "                        <td id=\"T_fe92acd6_39fd_11ee_bdbb_96000040dfb6row17_col0\" class=\"data row17 col0\" >100.00%</td>\n",
       "                        <td id=\"T_fe92acd6_39fd_11ee_bdbb_96000040dfb6row17_col1\" class=\"data row17 col1\" >1.84%</td>\n",
       "                        <td id=\"T_fe92acd6_39fd_11ee_bdbb_96000040dfb6row17_col2\" class=\"data row17 col2\" >3.55%</td>\n",
       "                        <td id=\"T_fe92acd6_39fd_11ee_bdbb_96000040dfb6row17_col3\" class=\"data row17 col3\" >4.71%</td>\n",
       "                        <td id=\"T_fe92acd6_39fd_11ee_bdbb_96000040dfb6row17_col4\" class=\"data row17 col4\" >3.49%</td>\n",
       "                        <td id=\"T_fe92acd6_39fd_11ee_bdbb_96000040dfb6row17_col5\" class=\"data row17 col5\" ></td>\n",
       "                        <td id=\"T_fe92acd6_39fd_11ee_bdbb_96000040dfb6row17_col6\" class=\"data row17 col6\" ></td>\n",
       "                        <td id=\"T_fe92acd6_39fd_11ee_bdbb_96000040dfb6row17_col7\" class=\"data row17 col7\" ></td>\n",
       "                        <td id=\"T_fe92acd6_39fd_11ee_bdbb_96000040dfb6row17_col8\" class=\"data row17 col8\" ></td>\n",
       "                        <td id=\"T_fe92acd6_39fd_11ee_bdbb_96000040dfb6row17_col9\" class=\"data row17 col9\" ></td>\n",
       "                        <td id=\"T_fe92acd6_39fd_11ee_bdbb_96000040dfb6row17_col10\" class=\"data row17 col10\" ></td>\n",
       "                        <td id=\"T_fe92acd6_39fd_11ee_bdbb_96000040dfb6row17_col11\" class=\"data row17 col11\" ></td>\n",
       "                        <td id=\"T_fe92acd6_39fd_11ee_bdbb_96000040dfb6row17_col12\" class=\"data row17 col12\" ></td>\n",
       "                        <td id=\"T_fe92acd6_39fd_11ee_bdbb_96000040dfb6row17_col13\" class=\"data row17 col13\" ></td>\n",
       "                        <td id=\"T_fe92acd6_39fd_11ee_bdbb_96000040dfb6row17_col14\" class=\"data row17 col14\" ></td>\n",
       "                        <td id=\"T_fe92acd6_39fd_11ee_bdbb_96000040dfb6row17_col15\" class=\"data row17 col15\" ></td>\n",
       "                        <td id=\"T_fe92acd6_39fd_11ee_bdbb_96000040dfb6row17_col16\" class=\"data row17 col16\" ></td>\n",
       "                        <td id=\"T_fe92acd6_39fd_11ee_bdbb_96000040dfb6row17_col17\" class=\"data row17 col17\" ></td>\n",
       "                        <td id=\"T_fe92acd6_39fd_11ee_bdbb_96000040dfb6row17_col18\" class=\"data row17 col18\" ></td>\n",
       "                        <td id=\"T_fe92acd6_39fd_11ee_bdbb_96000040dfb6row17_col19\" class=\"data row17 col19\" ></td>\n",
       "                        <td id=\"T_fe92acd6_39fd_11ee_bdbb_96000040dfb6row17_col20\" class=\"data row17 col20\" ></td>\n",
       "                        <td id=\"T_fe92acd6_39fd_11ee_bdbb_96000040dfb6row17_col21\" class=\"data row17 col21\" ></td>\n",
       "            </tr>\n",
       "            <tr>\n",
       "                        <th id=\"T_fe92acd6_39fd_11ee_bdbb_96000040dfb6level0_row18\" class=\"row_heading level0 row18\" >2020-09-20 00:00:00</th>\n",
       "                        <td id=\"T_fe92acd6_39fd_11ee_bdbb_96000040dfb6row18_col0\" class=\"data row18 col0\" >100.00%</td>\n",
       "                        <td id=\"T_fe92acd6_39fd_11ee_bdbb_96000040dfb6row18_col1\" class=\"data row18 col1\" >2.44%</td>\n",
       "                        <td id=\"T_fe92acd6_39fd_11ee_bdbb_96000040dfb6row18_col2\" class=\"data row18 col2\" >4.34%</td>\n",
       "                        <td id=\"T_fe92acd6_39fd_11ee_bdbb_96000040dfb6row18_col3\" class=\"data row18 col3\" >2.38%</td>\n",
       "                        <td id=\"T_fe92acd6_39fd_11ee_bdbb_96000040dfb6row18_col4\" class=\"data row18 col4\" ></td>\n",
       "                        <td id=\"T_fe92acd6_39fd_11ee_bdbb_96000040dfb6row18_col5\" class=\"data row18 col5\" ></td>\n",
       "                        <td id=\"T_fe92acd6_39fd_11ee_bdbb_96000040dfb6row18_col6\" class=\"data row18 col6\" ></td>\n",
       "                        <td id=\"T_fe92acd6_39fd_11ee_bdbb_96000040dfb6row18_col7\" class=\"data row18 col7\" ></td>\n",
       "                        <td id=\"T_fe92acd6_39fd_11ee_bdbb_96000040dfb6row18_col8\" class=\"data row18 col8\" ></td>\n",
       "                        <td id=\"T_fe92acd6_39fd_11ee_bdbb_96000040dfb6row18_col9\" class=\"data row18 col9\" ></td>\n",
       "                        <td id=\"T_fe92acd6_39fd_11ee_bdbb_96000040dfb6row18_col10\" class=\"data row18 col10\" ></td>\n",
       "                        <td id=\"T_fe92acd6_39fd_11ee_bdbb_96000040dfb6row18_col11\" class=\"data row18 col11\" ></td>\n",
       "                        <td id=\"T_fe92acd6_39fd_11ee_bdbb_96000040dfb6row18_col12\" class=\"data row18 col12\" ></td>\n",
       "                        <td id=\"T_fe92acd6_39fd_11ee_bdbb_96000040dfb6row18_col13\" class=\"data row18 col13\" ></td>\n",
       "                        <td id=\"T_fe92acd6_39fd_11ee_bdbb_96000040dfb6row18_col14\" class=\"data row18 col14\" ></td>\n",
       "                        <td id=\"T_fe92acd6_39fd_11ee_bdbb_96000040dfb6row18_col15\" class=\"data row18 col15\" ></td>\n",
       "                        <td id=\"T_fe92acd6_39fd_11ee_bdbb_96000040dfb6row18_col16\" class=\"data row18 col16\" ></td>\n",
       "                        <td id=\"T_fe92acd6_39fd_11ee_bdbb_96000040dfb6row18_col17\" class=\"data row18 col17\" ></td>\n",
       "                        <td id=\"T_fe92acd6_39fd_11ee_bdbb_96000040dfb6row18_col18\" class=\"data row18 col18\" ></td>\n",
       "                        <td id=\"T_fe92acd6_39fd_11ee_bdbb_96000040dfb6row18_col19\" class=\"data row18 col19\" ></td>\n",
       "                        <td id=\"T_fe92acd6_39fd_11ee_bdbb_96000040dfb6row18_col20\" class=\"data row18 col20\" ></td>\n",
       "                        <td id=\"T_fe92acd6_39fd_11ee_bdbb_96000040dfb6row18_col21\" class=\"data row18 col21\" ></td>\n",
       "            </tr>\n",
       "            <tr>\n",
       "                        <th id=\"T_fe92acd6_39fd_11ee_bdbb_96000040dfb6level0_row19\" class=\"row_heading level0 row19\" >2020-09-21 00:00:00</th>\n",
       "                        <td id=\"T_fe92acd6_39fd_11ee_bdbb_96000040dfb6row19_col0\" class=\"data row19 col0\" >100.00%</td>\n",
       "                        <td id=\"T_fe92acd6_39fd_11ee_bdbb_96000040dfb6row19_col1\" class=\"data row19 col1\" >1.89%</td>\n",
       "                        <td id=\"T_fe92acd6_39fd_11ee_bdbb_96000040dfb6row19_col2\" class=\"data row19 col2\" >2.99%</td>\n",
       "                        <td id=\"T_fe92acd6_39fd_11ee_bdbb_96000040dfb6row19_col3\" class=\"data row19 col3\" ></td>\n",
       "                        <td id=\"T_fe92acd6_39fd_11ee_bdbb_96000040dfb6row19_col4\" class=\"data row19 col4\" ></td>\n",
       "                        <td id=\"T_fe92acd6_39fd_11ee_bdbb_96000040dfb6row19_col5\" class=\"data row19 col5\" ></td>\n",
       "                        <td id=\"T_fe92acd6_39fd_11ee_bdbb_96000040dfb6row19_col6\" class=\"data row19 col6\" ></td>\n",
       "                        <td id=\"T_fe92acd6_39fd_11ee_bdbb_96000040dfb6row19_col7\" class=\"data row19 col7\" ></td>\n",
       "                        <td id=\"T_fe92acd6_39fd_11ee_bdbb_96000040dfb6row19_col8\" class=\"data row19 col8\" ></td>\n",
       "                        <td id=\"T_fe92acd6_39fd_11ee_bdbb_96000040dfb6row19_col9\" class=\"data row19 col9\" ></td>\n",
       "                        <td id=\"T_fe92acd6_39fd_11ee_bdbb_96000040dfb6row19_col10\" class=\"data row19 col10\" ></td>\n",
       "                        <td id=\"T_fe92acd6_39fd_11ee_bdbb_96000040dfb6row19_col11\" class=\"data row19 col11\" ></td>\n",
       "                        <td id=\"T_fe92acd6_39fd_11ee_bdbb_96000040dfb6row19_col12\" class=\"data row19 col12\" ></td>\n",
       "                        <td id=\"T_fe92acd6_39fd_11ee_bdbb_96000040dfb6row19_col13\" class=\"data row19 col13\" ></td>\n",
       "                        <td id=\"T_fe92acd6_39fd_11ee_bdbb_96000040dfb6row19_col14\" class=\"data row19 col14\" ></td>\n",
       "                        <td id=\"T_fe92acd6_39fd_11ee_bdbb_96000040dfb6row19_col15\" class=\"data row19 col15\" ></td>\n",
       "                        <td id=\"T_fe92acd6_39fd_11ee_bdbb_96000040dfb6row19_col16\" class=\"data row19 col16\" ></td>\n",
       "                        <td id=\"T_fe92acd6_39fd_11ee_bdbb_96000040dfb6row19_col17\" class=\"data row19 col17\" ></td>\n",
       "                        <td id=\"T_fe92acd6_39fd_11ee_bdbb_96000040dfb6row19_col18\" class=\"data row19 col18\" ></td>\n",
       "                        <td id=\"T_fe92acd6_39fd_11ee_bdbb_96000040dfb6row19_col19\" class=\"data row19 col19\" ></td>\n",
       "                        <td id=\"T_fe92acd6_39fd_11ee_bdbb_96000040dfb6row19_col20\" class=\"data row19 col20\" ></td>\n",
       "                        <td id=\"T_fe92acd6_39fd_11ee_bdbb_96000040dfb6row19_col21\" class=\"data row19 col21\" ></td>\n",
       "            </tr>\n",
       "            <tr>\n",
       "                        <th id=\"T_fe92acd6_39fd_11ee_bdbb_96000040dfb6level0_row20\" class=\"row_heading level0 row20\" >2020-09-22 00:00:00</th>\n",
       "                        <td id=\"T_fe92acd6_39fd_11ee_bdbb_96000040dfb6row20_col0\" class=\"data row20 col0\" >100.00%</td>\n",
       "                        <td id=\"T_fe92acd6_39fd_11ee_bdbb_96000040dfb6row20_col1\" class=\"data row20 col1\" >0.85%</td>\n",
       "                        <td id=\"T_fe92acd6_39fd_11ee_bdbb_96000040dfb6row20_col2\" class=\"data row20 col2\" ></td>\n",
       "                        <td id=\"T_fe92acd6_39fd_11ee_bdbb_96000040dfb6row20_col3\" class=\"data row20 col3\" ></td>\n",
       "                        <td id=\"T_fe92acd6_39fd_11ee_bdbb_96000040dfb6row20_col4\" class=\"data row20 col4\" ></td>\n",
       "                        <td id=\"T_fe92acd6_39fd_11ee_bdbb_96000040dfb6row20_col5\" class=\"data row20 col5\" ></td>\n",
       "                        <td id=\"T_fe92acd6_39fd_11ee_bdbb_96000040dfb6row20_col6\" class=\"data row20 col6\" ></td>\n",
       "                        <td id=\"T_fe92acd6_39fd_11ee_bdbb_96000040dfb6row20_col7\" class=\"data row20 col7\" ></td>\n",
       "                        <td id=\"T_fe92acd6_39fd_11ee_bdbb_96000040dfb6row20_col8\" class=\"data row20 col8\" ></td>\n",
       "                        <td id=\"T_fe92acd6_39fd_11ee_bdbb_96000040dfb6row20_col9\" class=\"data row20 col9\" ></td>\n",
       "                        <td id=\"T_fe92acd6_39fd_11ee_bdbb_96000040dfb6row20_col10\" class=\"data row20 col10\" ></td>\n",
       "                        <td id=\"T_fe92acd6_39fd_11ee_bdbb_96000040dfb6row20_col11\" class=\"data row20 col11\" ></td>\n",
       "                        <td id=\"T_fe92acd6_39fd_11ee_bdbb_96000040dfb6row20_col12\" class=\"data row20 col12\" ></td>\n",
       "                        <td id=\"T_fe92acd6_39fd_11ee_bdbb_96000040dfb6row20_col13\" class=\"data row20 col13\" ></td>\n",
       "                        <td id=\"T_fe92acd6_39fd_11ee_bdbb_96000040dfb6row20_col14\" class=\"data row20 col14\" ></td>\n",
       "                        <td id=\"T_fe92acd6_39fd_11ee_bdbb_96000040dfb6row20_col15\" class=\"data row20 col15\" ></td>\n",
       "                        <td id=\"T_fe92acd6_39fd_11ee_bdbb_96000040dfb6row20_col16\" class=\"data row20 col16\" ></td>\n",
       "                        <td id=\"T_fe92acd6_39fd_11ee_bdbb_96000040dfb6row20_col17\" class=\"data row20 col17\" ></td>\n",
       "                        <td id=\"T_fe92acd6_39fd_11ee_bdbb_96000040dfb6row20_col18\" class=\"data row20 col18\" ></td>\n",
       "                        <td id=\"T_fe92acd6_39fd_11ee_bdbb_96000040dfb6row20_col19\" class=\"data row20 col19\" ></td>\n",
       "                        <td id=\"T_fe92acd6_39fd_11ee_bdbb_96000040dfb6row20_col20\" class=\"data row20 col20\" ></td>\n",
       "                        <td id=\"T_fe92acd6_39fd_11ee_bdbb_96000040dfb6row20_col21\" class=\"data row20 col21\" ></td>\n",
       "            </tr>\n",
       "            <tr>\n",
       "                        <th id=\"T_fe92acd6_39fd_11ee_bdbb_96000040dfb6level0_row21\" class=\"row_heading level0 row21\" >2020-09-23 00:00:00</th>\n",
       "                        <td id=\"T_fe92acd6_39fd_11ee_bdbb_96000040dfb6row21_col0\" class=\"data row21 col0\" >100.00%</td>\n",
       "                        <td id=\"T_fe92acd6_39fd_11ee_bdbb_96000040dfb6row21_col1\" class=\"data row21 col1\" ></td>\n",
       "                        <td id=\"T_fe92acd6_39fd_11ee_bdbb_96000040dfb6row21_col2\" class=\"data row21 col2\" ></td>\n",
       "                        <td id=\"T_fe92acd6_39fd_11ee_bdbb_96000040dfb6row21_col3\" class=\"data row21 col3\" ></td>\n",
       "                        <td id=\"T_fe92acd6_39fd_11ee_bdbb_96000040dfb6row21_col4\" class=\"data row21 col4\" ></td>\n",
       "                        <td id=\"T_fe92acd6_39fd_11ee_bdbb_96000040dfb6row21_col5\" class=\"data row21 col5\" ></td>\n",
       "                        <td id=\"T_fe92acd6_39fd_11ee_bdbb_96000040dfb6row21_col6\" class=\"data row21 col6\" ></td>\n",
       "                        <td id=\"T_fe92acd6_39fd_11ee_bdbb_96000040dfb6row21_col7\" class=\"data row21 col7\" ></td>\n",
       "                        <td id=\"T_fe92acd6_39fd_11ee_bdbb_96000040dfb6row21_col8\" class=\"data row21 col8\" ></td>\n",
       "                        <td id=\"T_fe92acd6_39fd_11ee_bdbb_96000040dfb6row21_col9\" class=\"data row21 col9\" ></td>\n",
       "                        <td id=\"T_fe92acd6_39fd_11ee_bdbb_96000040dfb6row21_col10\" class=\"data row21 col10\" ></td>\n",
       "                        <td id=\"T_fe92acd6_39fd_11ee_bdbb_96000040dfb6row21_col11\" class=\"data row21 col11\" ></td>\n",
       "                        <td id=\"T_fe92acd6_39fd_11ee_bdbb_96000040dfb6row21_col12\" class=\"data row21 col12\" ></td>\n",
       "                        <td id=\"T_fe92acd6_39fd_11ee_bdbb_96000040dfb6row21_col13\" class=\"data row21 col13\" ></td>\n",
       "                        <td id=\"T_fe92acd6_39fd_11ee_bdbb_96000040dfb6row21_col14\" class=\"data row21 col14\" ></td>\n",
       "                        <td id=\"T_fe92acd6_39fd_11ee_bdbb_96000040dfb6row21_col15\" class=\"data row21 col15\" ></td>\n",
       "                        <td id=\"T_fe92acd6_39fd_11ee_bdbb_96000040dfb6row21_col16\" class=\"data row21 col16\" ></td>\n",
       "                        <td id=\"T_fe92acd6_39fd_11ee_bdbb_96000040dfb6row21_col17\" class=\"data row21 col17\" ></td>\n",
       "                        <td id=\"T_fe92acd6_39fd_11ee_bdbb_96000040dfb6row21_col18\" class=\"data row21 col18\" ></td>\n",
       "                        <td id=\"T_fe92acd6_39fd_11ee_bdbb_96000040dfb6row21_col19\" class=\"data row21 col19\" ></td>\n",
       "                        <td id=\"T_fe92acd6_39fd_11ee_bdbb_96000040dfb6row21_col20\" class=\"data row21 col20\" ></td>\n",
       "                        <td id=\"T_fe92acd6_39fd_11ee_bdbb_96000040dfb6row21_col21\" class=\"data row21 col21\" ></td>\n",
       "            </tr>\n",
       "    </tbody></table>"
      ],
      "text/plain": [
       "<pandas.io.formats.style.Styler at 0x7f7560558dd8>"
      ]
     },
     "execution_count": 14,
     "metadata": {},
     "output_type": "execute_result"
    }
   ],
   "source": [
    "cohort_analysis(reg_date, entry_date, d)"
   ]
  },
  {
   "cell_type": "markdown",
   "metadata": {},
   "source": [
    "Можно увидеть, что наибольший retention в течение выбранных для анализа 3х недель у пользователей, зарегистрировавшихся 2020-09-03. Сильные спады или всплески активности у пользователей незаметны, меньше всего людей заходит в игру на следующий день после регистрации."
   ]
  },
  {
   "cell_type": "code",
   "execution_count": null,
   "metadata": {},
   "outputs": [],
   "source": []
  },
  {
   "cell_type": "markdown",
   "metadata": {},
   "source": [
    "### Задача 2.\n",
    "\n",
    "Имеются результаты A/B теста, в котором двум группам пользователей предлагались различные наборы акционных предложений. Известно, что ARPU в тестовой группе выше на 5%, чем в контрольной. При этом в контрольной группе 1928 игроков из 202103 оказались платящими, а в тестовой – 1805 из 202667.\n",
    "\n",
    "Какой набор предложений можно считать лучшим? Какие метрики стоит проанализировать для принятия правильного решения и как?"
   ]
  },
  {
   "cell_type": "code",
   "execution_count": 3,
   "metadata": {},
   "outputs": [],
   "source": [
    "df_2 = pd.read_csv('Проект_1_Задание_2.csv', sep=';')"
   ]
  },
  {
   "cell_type": "markdown",
   "metadata": {},
   "source": [
    "Проведу краткий анализ данных:"
   ]
  },
  {
   "cell_type": "code",
   "execution_count": 8,
   "metadata": {},
   "outputs": [
    {
     "data": {
      "text/html": [
       "<div>\n",
       "<style scoped>\n",
       "    .dataframe tbody tr th:only-of-type {\n",
       "        vertical-align: middle;\n",
       "    }\n",
       "\n",
       "    .dataframe tbody tr th {\n",
       "        vertical-align: top;\n",
       "    }\n",
       "\n",
       "    .dataframe thead th {\n",
       "        text-align: right;\n",
       "    }\n",
       "</style>\n",
       "<table border=\"1\" class=\"dataframe\">\n",
       "  <thead>\n",
       "    <tr style=\"text-align: right;\">\n",
       "      <th></th>\n",
       "      <th>user_id</th>\n",
       "      <th>revenue</th>\n",
       "      <th>testgroup</th>\n",
       "    </tr>\n",
       "  </thead>\n",
       "  <tbody>\n",
       "    <tr>\n",
       "      <th>0</th>\n",
       "      <td>1</td>\n",
       "      <td>0</td>\n",
       "      <td>b</td>\n",
       "    </tr>\n",
       "    <tr>\n",
       "      <th>1</th>\n",
       "      <td>2</td>\n",
       "      <td>0</td>\n",
       "      <td>a</td>\n",
       "    </tr>\n",
       "    <tr>\n",
       "      <th>2</th>\n",
       "      <td>3</td>\n",
       "      <td>0</td>\n",
       "      <td>a</td>\n",
       "    </tr>\n",
       "    <tr>\n",
       "      <th>3</th>\n",
       "      <td>4</td>\n",
       "      <td>0</td>\n",
       "      <td>b</td>\n",
       "    </tr>\n",
       "    <tr>\n",
       "      <th>4</th>\n",
       "      <td>5</td>\n",
       "      <td>0</td>\n",
       "      <td>b</td>\n",
       "    </tr>\n",
       "  </tbody>\n",
       "</table>\n",
       "</div>"
      ],
      "text/plain": [
       "   user_id  revenue testgroup\n",
       "0        1        0         b\n",
       "1        2        0         a\n",
       "2        3        0         a\n",
       "3        4        0         b\n",
       "4        5        0         b"
      ]
     },
     "execution_count": 8,
     "metadata": {},
     "output_type": "execute_result"
    }
   ],
   "source": [
    "df_2.head()"
   ]
  },
  {
   "cell_type": "code",
   "execution_count": 4,
   "metadata": {},
   "outputs": [
    {
     "data": {
      "text/plain": [
       "user_id       int64\n",
       "revenue       int64\n",
       "testgroup    object\n",
       "dtype: object"
      ]
     },
     "execution_count": 4,
     "metadata": {},
     "output_type": "execute_result"
    }
   ],
   "source": [
    "df_2.dtypes"
   ]
  },
  {
   "cell_type": "code",
   "execution_count": 5,
   "metadata": {},
   "outputs": [
    {
     "data": {
      "text/plain": [
       "user_id      0\n",
       "revenue      0\n",
       "testgroup    0\n",
       "dtype: int64"
      ]
     },
     "execution_count": 5,
     "metadata": {},
     "output_type": "execute_result"
    }
   ],
   "source": [
    "df_2.isna().sum()"
   ]
  },
  {
   "cell_type": "markdown",
   "metadata": {},
   "source": [
    "Сравню средний чек в обеих группах:"
   ]
  },
  {
   "cell_type": "code",
   "execution_count": 10,
   "metadata": {},
   "outputs": [
    {
     "data": {
      "text/html": [
       "<div>\n",
       "<style scoped>\n",
       "    .dataframe tbody tr th:only-of-type {\n",
       "        vertical-align: middle;\n",
       "    }\n",
       "\n",
       "    .dataframe tbody tr th {\n",
       "        vertical-align: top;\n",
       "    }\n",
       "\n",
       "    .dataframe thead th {\n",
       "        text-align: right;\n",
       "    }\n",
       "</style>\n",
       "<table border=\"1\" class=\"dataframe\">\n",
       "  <thead>\n",
       "    <tr style=\"text-align: right;\">\n",
       "      <th></th>\n",
       "      <th>revenue</th>\n",
       "    </tr>\n",
       "    <tr>\n",
       "      <th>testgroup</th>\n",
       "      <th></th>\n",
       "    </tr>\n",
       "  </thead>\n",
       "  <tbody>\n",
       "    <tr>\n",
       "      <th>a</th>\n",
       "      <td>25.413720</td>\n",
       "    </tr>\n",
       "    <tr>\n",
       "      <th>b</th>\n",
       "      <td>26.751287</td>\n",
       "    </tr>\n",
       "  </tbody>\n",
       "</table>\n",
       "</div>"
      ],
      "text/plain": [
       "             revenue\n",
       "testgroup           \n",
       "a          25.413720\n",
       "b          26.751287"
      ]
     },
     "execution_count": 10,
     "metadata": {},
     "output_type": "execute_result"
    }
   ],
   "source": [
    "df_2.groupby('testgroup').agg({'revenue':'mean'})"
   ]
  },
  {
   "cell_type": "markdown",
   "metadata": {},
   "source": [
    "Судя по среднему чеку, тестовой является группа В. Чтоб понять, является разница в  ARPU в 5% статзначимой, буду сравнивать средние чеки в обеих группах. Идею с медианами/квантилями отмела, так как платящих пользователей в обеих группах меньше процента, медиана будет равно 0, на мой взгляд средний чек наглядней при сравнении. "
   ]
  },
  {
   "cell_type": "markdown",
   "metadata": {},
   "source": [
    "Посмотрю на распределение чеков по группам с помощью дистплота и QQ-плота:"
   ]
  },
  {
   "cell_type": "code",
   "execution_count": 79,
   "metadata": {},
   "outputs": [
    {
     "name": "stderr",
     "output_type": "stream",
     "text": [
      "/opt/tljh/user/lib/python3.7/site-packages/seaborn/distributions.py:2557: FutureWarning: `distplot` is a deprecated function and will be removed in a future version. Please adapt your code to use either `displot` (a figure-level function with similar flexibility) or `histplot` (an axes-level function for histograms).\n",
      "  warnings.warn(msg, FutureWarning)\n"
     ]
    },
    {
     "data": {
      "text/plain": [
       "<matplotlib.axes._subplots.AxesSubplot at 0x7f750125a9b0>"
      ]
     },
     "execution_count": 79,
     "metadata": {},
     "output_type": "execute_result"
    },
    {
     "data": {
      "image/png": "[encoded data removed]",
      "text/plain": [
       "<Figure size 432x288 with 1 Axes>"
      ]
     },
     "metadata": {
      "needs_background": "light"
     },
     "output_type": "display_data"
    }
   ],
   "source": [
    "sns.distplot(df_2.loc[(df_2['testgroup'] == 'a')]['revenue'])"
   ]
  },
  {
   "cell_type": "code",
   "execution_count": 80,
   "metadata": {},
   "outputs": [
    {
     "name": "stderr",
     "output_type": "stream",
     "text": [
      "/opt/tljh/user/lib/python3.7/site-packages/seaborn/distributions.py:2557: FutureWarning: `distplot` is a deprecated function and will be removed in a future version. Please adapt your code to use either `displot` (a figure-level function with similar flexibility) or `histplot` (an axes-level function for histograms).\n",
      "  warnings.warn(msg, FutureWarning)\n"
     ]
    },
    {
     "data": {
      "text/plain": [
       "<matplotlib.axes._subplots.AxesSubplot at 0x7f75011daef0>"
      ]
     },
     "execution_count": 80,
     "metadata": {},
     "output_type": "execute_result"
    },
    {
     "data": {
      "image/png": "[encoded data removed]",
      "text/plain": [
       "<Figure size 432x288 with 1 Axes>"
      ]
     },
     "metadata": {
      "needs_background": "light"
     },
     "output_type": "display_data"
    }
   ],
   "source": [
    "sns.distplot(df_2.loc[(df_2['testgroup'] == 'b')]['revenue'])"
   ]
  },
  {
   "cell_type": "code",
   "execution_count": 14,
   "metadata": {},
   "outputs": [],
   "source": [
    "a = df_2.loc[(df_2['testgroup'] == 'a')]['revenue'] # чеки контрольной группы"
   ]
  },
  {
   "cell_type": "code",
   "execution_count": 15,
   "metadata": {},
   "outputs": [],
   "source": [
    "b = df_2.loc[(df_2['testgroup'] == 'b')]['revenue'] # чеки тестовой группы"
   ]
  },
  {
   "cell_type": "code",
   "execution_count": 17,
   "metadata": {},
   "outputs": [
    {
     "data": {
      "image/png": "[encoded data removed]",
      "text/plain": [
       "<Figure size 432x288 with 1 Axes>"
      ]
     },
     "metadata": {
      "needs_background": "light"
     },
     "output_type": "display_data"
    }
   ],
   "source": [
    "#create Q-Q plot with 45-degree line added to plot\n",
    "fig = sm.qqplot(a)\n",
    "plt.show()"
   ]
  },
  {
   "cell_type": "code",
   "execution_count": 16,
   "metadata": {},
   "outputs": [
    {
     "data": {
      "image/png": "[encoded data removed]",
      "text/plain": [
       "<Figure size 432x288 with 1 Axes>"
      ]
     },
     "metadata": {
      "needs_background": "light"
     },
     "output_type": "display_data"
    }
   ],
   "source": [
    "#create Q-Q plot with 45-degree line added to plot\n",
    "fig = sm.qqplot(b)\n",
    "plt.show()"
   ]
  },
  {
   "cell_type": "markdown",
   "metadata": {},
   "source": [
    "Судя по графикам, выручка по пользователям распределена ненормально.\n",
    "Проверю далее гомоскедастичность распределений:"
   ]
  },
  {
   "cell_type": "code",
   "execution_count": 20,
   "metadata": {},
   "outputs": [
    {
     "data": {
      "text/html": [
       "<div>\n",
       "<style scoped>\n",
       "    .dataframe tbody tr th:only-of-type {\n",
       "        vertical-align: middle;\n",
       "    }\n",
       "\n",
       "    .dataframe tbody tr th {\n",
       "        vertical-align: top;\n",
       "    }\n",
       "\n",
       "    .dataframe thead th {\n",
       "        text-align: right;\n",
       "    }\n",
       "</style>\n",
       "<table border=\"1\" class=\"dataframe\">\n",
       "  <thead>\n",
       "    <tr style=\"text-align: right;\">\n",
       "      <th></th>\n",
       "      <th>W</th>\n",
       "      <th>pval</th>\n",
       "      <th>equal_var</th>\n",
       "    </tr>\n",
       "  </thead>\n",
       "  <tbody>\n",
       "    <tr>\n",
       "      <th>levene</th>\n",
       "      <td>0.389629</td>\n",
       "      <td>0.532495</td>\n",
       "      <td>True</td>\n",
       "    </tr>\n",
       "  </tbody>\n",
       "</table>\n",
       "</div>"
      ],
      "text/plain": [
       "               W      pval  equal_var\n",
       "levene  0.389629  0.532495       True"
      ]
     },
     "execution_count": 20,
     "metadata": {},
     "output_type": "execute_result"
    }
   ],
   "source": [
    "pg.homoscedasticity(data=df_2, dv=\"revenue\", group=\"testgroup\")"
   ]
  },
  {
   "cell_type": "markdown",
   "metadata": {},
   "source": [
    "Итак, распределения гомоскедастичны, ненормальны, выборка - довольно большая, что позволяет мне выбрать t-test для сравнения средних и определения статзначимости различий.\n",
    "Думала так же о бутстрапе, но, учитывая, что я сравниваю только средние и у меня большие выборки, решила остановиться на t-test, хотя, по большому счету могла, наверно, выбрать и бутстрап:) "
   ]
  },
  {
   "cell_type": "code",
   "execution_count": 25,
   "metadata": {},
   "outputs": [
    {
     "data": {
      "text/plain": [
       "Ttest_indResult(statistic=-0.6242026493616787, pvalue=0.532494858971837)"
      ]
     },
     "execution_count": 25,
     "metadata": {},
     "output_type": "execute_result"
    }
   ],
   "source": [
    "stats.ttest_ind(a, b)"
   ]
  },
  {
   "cell_type": "markdown",
   "metadata": {},
   "source": [
    "Результат t-test говорит о том, что различия в двух группах вероятно случайны, p-value > 0.05 и нельзя говорить о том, что наборы акционных предложений для тестовой группы были эффективней, учитывая, что и соотношение платящих к неплатящим пользователям в контрольной группе больше."
   ]
  },
  {
   "cell_type": "code",
   "execution_count": null,
   "metadata": {},
   "outputs": [],
   "source": []
  },
  {
   "cell_type": "markdown",
   "metadata": {},
   "source": [
    "### Задача 3.\n",
    "\n",
    "В игре Plants & Gardens каждый месяц проводятся тематические события, ограниченные по времени. В них игроки могут получить уникальные предметы для сада и персонажей, дополнительные монеты или бонусы. Для получения награды требуется пройти ряд уровней за определенное время. С помощью каких метрик можно оценить результаты последнего прошедшего события?\n",
    "\n",
    "Предположим, в другом событии мы усложнили механику событий так, что при каждой неудачной попытке выполнения уровня игрок будет откатываться на несколько уровней назад. Изменится ли набор метрик оценки результата? Если да, то как?"
   ]
  },
  {
   "cell_type": "markdown",
   "metadata": {},
   "source": [
    "  "
   ]
  },
  {
   "cell_type": "markdown",
   "metadata": {},
   "source": [
    "Я бы использовала следующие метрики при анализе последнего прошедшего события:\n",
    "\n",
    "\n",
    "**Дневная аудитория (DAU)** — количество уникальных пользователей, которые зашли в приложение в течение суток. Посмотреть, какое количество уникальных пользователей приклекли тематические события.\n",
    "\n",
    "**Retention rate (RR)** - коэффициент удержания клиентов. Сравнила бы retention у пользователей, участвующих и не участвующих в событии, помогает ли это вообще удержанию. И так же  можно было бы посчитать процент пользователей, вернувшихся после первой  неудачной попытки. Это поможет оценить, насколько успешно событие удерживает пользователей после неудач.\n",
    "\n",
    "**Churn Rate (отток)** - Процент пользователей, переставших участвовать в событии. \n",
    "\n",
    "Если в игре есть монетизация: **ARPU** - Средняя выручка с одного пользователя. Это поможет понять, сколько среднего дохода получаем от каждого пользователя, участвующего в событии.\n",
    "\n",
    "**Время, проведенное пользователями в игре во время события.** Это не совсем метрика, но оценка среднего времени, проведенного пользователями в игре во время события, может дать представление о вовлеченности игроков.\n",
    "\n",
    "\n",
    "\n",
    "\n",
    "При усложнении механики события, я бы добавила еще пару метрик:\n",
    "\n",
    "\n",
    "\n",
    "**Уровни, пройденные до отката** - оценить, сколько уровней игроки проходили до отката. Это поможет определить, на каком уровне игроки чаще всего сталкиваются с трудностями.\n",
    "\n",
    "**Churn Rate (отток)** - Изменение механики может повлиять на отток пользователей. Стоит посчитать, сколько уже участвовавших в событии уходят из игры после усложнения. Усложнение механики может привести к большему оттоку, так как некоторые игроки могут столкнуться с фрустрацией и прекратить участие.\n",
    "\n",
    "**LTV (Customer Lifetime Value)** - Сложность механики события может повлиять на долгосрочную ценность пользователей. Если они активно участвуют и продолжают попытки после неудач, их LTV может возрасти.\n",
    "\n",
    "\n",
    "**Оценка удовлетворенности клиентов (customer satisfaction score, CSAT)** — измеряет общий уровень недовольства пользователя по поводу определенного продукта или функции. Было бы неплохо посмотреть среди тех, кто вообще не участвовал в событии, участвовал без усложнения и участвовал с усложнением механики.\n"
   ]
  },
  {
   "cell_type": "code",
   "execution_count": null,
   "metadata": {},
   "outputs": [],
   "source": []
  },
  {
   "cell_type": "code",
   "execution_count": null,
   "metadata": {},
   "outputs": [],
   "source": []
  }
 ],
 "metadata": {
  "kernelspec": {
   "display_name": "Python 3",
   "language": "python",
   "name": "python3"
  },
  "language_info": {
   "codemirror_mode": {
    "name": "ipython",
    "version": 3
   },
   "file_extension": ".py",
   "mimetype": "text/x-python",
   "name": "python",
   "nbconvert_exporter": "python",
   "pygments_lexer": "ipython3",
   "version": "3.7.3"
  }
 },
 "nbformat": 4,
 "nbformat_minor": 4
}
